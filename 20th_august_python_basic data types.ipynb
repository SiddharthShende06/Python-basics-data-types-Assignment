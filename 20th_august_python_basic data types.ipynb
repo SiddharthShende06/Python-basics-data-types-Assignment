{
 "cells": [
  {
   "cell_type": "markdown",
   "id": "ea5652d4-7dc0-4ed3-8360-eccd37b60623",
   "metadata": {},
   "source": [
    "TOPIC: String Based Assignment Problem"
   ]
  },
  {
   "cell_type": "markdown",
   "id": "b1a1e6c2-fc4e-4a3e-a87b-563f2d8b00dc",
   "metadata": {},
   "source": [
    "1. Write a program to reverse a string."
   ]
  },
  {
   "cell_type": "code",
   "execution_count": 103,
   "id": "bdcf9534-71b5-4f3b-b59c-5f83e1b7e4b9",
   "metadata": {},
   "outputs": [
    {
     "name": "stdout",
     "output_type": "stream",
     "text": [
      "sllikswp\n"
     ]
    }
   ],
   "source": [
    "string = 'pwskills'\n",
    "\n",
    "reversed_string = string[::-1]\n",
    "\n",
    "print(reversed_string)"
   ]
  },
  {
   "cell_type": "markdown",
   "id": "83719f60-1e4b-4a49-848e-e26b8859e457",
   "metadata": {},
   "source": [
    "2. Check if a string is a palindrome."
   ]
  },
  {
   "cell_type": "code",
   "execution_count": 104,
   "id": "5a45c02d-43b4-4919-9332-383c0adfb46c",
   "metadata": {},
   "outputs": [
    {
     "name": "stdout",
     "output_type": "stream",
     "text": [
      "madam is a palindrome.\n"
     ]
    }
   ],
   "source": [
    "def is_palindrome(s):\n",
    "    # Remove spaces and convert to lowercase for case-insensitive comparison\n",
    "    s = s.replace(\" \", \"\").lower()\n",
    "    \n",
    "    # Compare the original string with its reverse\n",
    "    return s == s[::-1]\n",
    "\n",
    "input_string = \"madam\"\n",
    "if is_palindrome(input_string):\n",
    "    print(f\"{input_string} is a palindrome.\")\n",
    "else:\n",
    "    print(f\"{input_string} is not a palindrome.\")"
   ]
  },
  {
   "cell_type": "markdown",
   "id": "9dd3f582-3d3a-40a1-b236-0db70c29e879",
   "metadata": {},
   "source": [
    "3. Convert a string to uppercase."
   ]
  },
  {
   "cell_type": "code",
   "execution_count": 105,
   "id": "23389ecd-69bc-414e-afba-525076168cce",
   "metadata": {},
   "outputs": [
    {
     "data": {
      "text/plain": [
       "'PWSKILLS'"
      ]
     },
     "execution_count": 105,
     "metadata": {},
     "output_type": "execute_result"
    }
   ],
   "source": [
    "a = 'pwskills'\n",
    "\n",
    "a.upper()"
   ]
  },
  {
   "cell_type": "markdown",
   "id": "6b00199a-a64d-49f2-87cf-82a61a52bb9d",
   "metadata": {},
   "source": [
    "4. Convert a string to lowercase."
   ]
  },
  {
   "cell_type": "code",
   "execution_count": 106,
   "id": "35076d15-3223-4042-8650-07fd2ae50fdd",
   "metadata": {},
   "outputs": [
    {
     "data": {
      "text/plain": [
       "'pwskills'"
      ]
     },
     "execution_count": 106,
     "metadata": {},
     "output_type": "execute_result"
    }
   ],
   "source": [
    "a = 'PWSKILLS'\n",
    "\n",
    "a.lower()"
   ]
  },
  {
   "cell_type": "markdown",
   "id": "87a73145-711b-4f27-a32b-89103313a9d0",
   "metadata": {},
   "source": [
    "5. Count the number of vowels in a string."
   ]
  },
  {
   "cell_type": "code",
   "execution_count": 107,
   "id": "c65d285f-1e09-4cd1-b981-176cc6eb9219",
   "metadata": {},
   "outputs": [
    {
     "name": "stdout",
     "output_type": "stream",
     "text": [
      "Total vowels are :5\n"
     ]
    }
   ],
   "source": [
    "#take user input\n",
    "String = 'my name is siddharth'\n",
    "count = 0\n",
    "#to check for less conditions\n",
    "#keep string in lowercase\n",
    "String = String.lower()\n",
    "for i in String:\n",
    "    if i == 'a' or i == 'e' or i == 'i' or i == 'o' or i == 'u':\n",
    "        #if True\n",
    "        count+=1\n",
    "#check if any vowel found\n",
    "if count == 0:\n",
    "    print('No vowels found')\n",
    "else:\n",
    "    print('Total vowels are :' + str(count))"
   ]
  },
  {
   "cell_type": "markdown",
   "id": "d38d9552-fbaf-469d-abbf-cc76e65d74a4",
   "metadata": {},
   "source": [
    "6. Count the number of consonants in a string."
   ]
  },
  {
   "cell_type": "code",
   "execution_count": 108,
   "id": "b424ca85-d754-4ce0-aaa3-8acbe30b0118",
   "metadata": {},
   "outputs": [
    {
     "name": "stdout",
     "output_type": "stream",
     "text": [
      "The number of consonant: 15\n"
     ]
    }
   ],
   "source": [
    "# Count consonants in a string using Python\n",
    " \n",
    "consonants=0\n",
    "\n",
    "# Enter an input string \n",
    "user_input = 'my name is siddharth'\n",
    " \n",
    "# convert string in case insensitive\n",
    "string = user_input.lower()\n",
    " \n",
    "for i in range(0,len(string)):  \n",
    "    if string[i] not in ('a',\"e\",\"i\",\"o\",\"u\"):  \n",
    "        consonants = consonants + 1;  \n",
    " \n",
    "print(\"The number of consonant:\",consonants);"
   ]
  },
  {
   "cell_type": "markdown",
   "id": "5109247f-9d4d-4be6-9611-9d6e4351588c",
   "metadata": {},
   "source": [
    "7. Remove all whitespaces from a string."
   ]
  },
  {
   "cell_type": "code",
   "execution_count": 109,
   "id": "aa6b13a0-9ca6-4ad1-914b-a1d10653e9d1",
   "metadata": {},
   "outputs": [
    {
     "name": "stdout",
     "output_type": "stream",
     "text": [
      "mynameissiddharth\n"
     ]
    }
   ],
   "source": [
    "string = 'my name is siddharth'\n",
    "\n",
    "removed_space = string.replace(' ', '')\n",
    "\n",
    "print(removed_space)"
   ]
  },
  {
   "cell_type": "markdown",
   "id": "03da15d7-5011-49a2-99e1-b707f0bc8297",
   "metadata": {},
   "source": [
    "8. Find the length of a string without using the `len()` function."
   ]
  },
  {
   "cell_type": "code",
   "execution_count": 110,
   "id": "799f5567-c714-4b54-9b96-54801c4115b0",
   "metadata": {},
   "outputs": [
    {
     "name": "stdout",
     "output_type": "stream",
     "text": [
      "Length without using len(): 13\n"
     ]
    }
   ],
   "source": [
    "def calculate_string_length(input_string):\n",
    "    count = 0\n",
    "    for char in input_string:\n",
    "        count += 1\n",
    "    return count\n",
    "\n",
    "my_string = \"Hello, World!\"\n",
    "length_without_len = calculate_string_length(my_string)\n",
    "\n",
    "print(\"Length without using len():\", length_without_len)"
   ]
  },
  {
   "cell_type": "markdown",
   "id": "e68dc43a-17a9-47d9-a3a2-20753c4a48f5",
   "metadata": {},
   "source": [
    "9. Check if a string contains a specific word."
   ]
  },
  {
   "cell_type": "code",
   "execution_count": 111,
   "id": "1ef80cb8-70d6-4236-9327-431bbf2c43dd",
   "metadata": {},
   "outputs": [
    {
     "name": "stdout",
     "output_type": "stream",
     "text": [
      "True\n"
     ]
    }
   ],
   "source": [
    "def contains_word(input_string, word):\n",
    "    return word in input_string\n",
    "\n",
    "my_string = \"This is a sample string.\"\n",
    "my_word = \"sample\"\n",
    "result = contains_word(my_string, my_word)\n",
    "\n",
    "print(result)  # Output: True"
   ]
  },
  {
   "cell_type": "markdown",
   "id": "c9038fd6-53d5-434c-b67b-7288f9aa4242",
   "metadata": {},
   "source": [
    "10. Replace a word in a string with another word."
   ]
  },
  {
   "cell_type": "code",
   "execution_count": 112,
   "id": "cd989999-c10c-4e8f-a362-0b8a57cf1f08",
   "metadata": {},
   "outputs": [
    {
     "data": {
      "text/plain": [
       "'awskills'"
      ]
     },
     "execution_count": 112,
     "metadata": {},
     "output_type": "execute_result"
    }
   ],
   "source": [
    "string = 'pwskills'\n",
    "\n",
    "string.replace('p','a')"
   ]
  },
  {
   "cell_type": "markdown",
   "id": "eee71da6-9d72-4307-841c-41a1c78b3892",
   "metadata": {},
   "source": [
    "11. Count the occurrences of a word in a string."
   ]
  },
  {
   "cell_type": "code",
   "execution_count": 113,
   "id": "493580d3-65ee-4fa1-b5cd-96d5bf8621be",
   "metadata": {},
   "outputs": [
    {
     "data": {
      "text/plain": [
       "2"
      ]
     },
     "execution_count": 113,
     "metadata": {},
     "output_type": "execute_result"
    }
   ],
   "source": [
    "string = 'pwskills'\n",
    "\n",
    "string.count('l')"
   ]
  },
  {
   "cell_type": "markdown",
   "id": "41373d7c-6965-4d7e-866b-89570c5f46c9",
   "metadata": {},
   "source": [
    "12. Find the first occurrence of a word in a string."
   ]
  },
  {
   "cell_type": "code",
   "execution_count": 114,
   "id": "5589d670-420f-4c13-aae2-b2e92238f8e0",
   "metadata": {},
   "outputs": [
    {
     "name": "stdout",
     "output_type": "stream",
     "text": [
      "The first occurrence of 'first' starts at index 41.\n"
     ]
    }
   ],
   "source": [
    "def find_first_occurrence(word, text):\n",
    "    index = text.find(word)\n",
    "    return index\n",
    "\n",
    "# Example usage:\n",
    "sentence = \"This is an example sentence. This is the first occurrence.\"\n",
    "word_to_find = \"first\"\n",
    "result = find_first_occurrence(word_to_find, sentence)\n",
    "\n",
    "if result != -1:\n",
    "    print(f\"The first occurrence of '{word_to_find}' starts at index {result}.\")\n",
    "else:\n",
    "    print(f\"'{word_to_find}' not found in the sentence.\")"
   ]
  },
  {
   "cell_type": "markdown",
   "id": "8966aa75-cee0-43cd-86fe-79c86624117a",
   "metadata": {},
   "source": [
    "13. Find the last occurrence of a word in a string."
   ]
  },
  {
   "cell_type": "code",
   "execution_count": 115,
   "id": "8a7b93cd-dd16-447e-971d-30bf98267730",
   "metadata": {},
   "outputs": [
    {
     "name": "stdout",
     "output_type": "stream",
     "text": [
      "The last occurrence of 'example' is at index 61.\n"
     ]
    }
   ],
   "source": [
    "def find_last_occurrence(input_string, target_word):\n",
    "    last_occurrence_index = input_string.rfind(target_word)\n",
    "    return last_occurrence_index\n",
    "\n",
    "# Example usage:\n",
    "my_string = \"This is an example sentence. This sentence contains the word example.\"\n",
    "target_word = \"example\"\n",
    "\n",
    "last_occurrence_index = find_last_occurrence(my_string, target_word)\n",
    "\n",
    "if last_occurrence_index != -1:\n",
    "    print(f\"The last occurrence of '{target_word}' is at index {last_occurrence_index}.\")\n",
    "else:\n",
    "    print(f\"The word '{target_word}' is not found in the string.\")\n"
   ]
  },
  {
   "cell_type": "markdown",
   "id": "c95a3457-59dd-4c83-9b7b-7605d45a85f2",
   "metadata": {},
   "source": [
    "14. Split a string into a list of words."
   ]
  },
  {
   "cell_type": "code",
   "execution_count": 116,
   "id": "8dc1441f-9705-4414-acd9-b78d297233d1",
   "metadata": {},
   "outputs": [
    {
     "name": "stdout",
     "output_type": "stream",
     "text": [
      "['my', 'name', 'is', 'siddharth']\n"
     ]
    }
   ],
   "source": [
    "string = 'my name is siddharth'\n",
    "\n",
    "split_word = string.split()\n",
    "\n",
    "print(split_word)"
   ]
  },
  {
   "cell_type": "markdown",
   "id": "9f42c650-2750-4718-9bda-61446332a804",
   "metadata": {},
   "source": [
    "15. Join a list of words into a string."
   ]
  },
  {
   "cell_type": "code",
   "execution_count": 117,
   "id": "7056672c-fcab-4d58-826b-8b36ae68954b",
   "metadata": {},
   "outputs": [
    {
     "name": "stdout",
     "output_type": "stream",
     "text": [
      "Hello World Python\n"
     ]
    }
   ],
   "source": [
    "word_list = [\"Hello\", \"World\", \"Python\"]\n",
    "result_string = \" \".join(word_list)\n",
    "print(result_string)"
   ]
  },
  {
   "cell_type": "markdown",
   "id": "541eadf0-6214-4845-9397-0761870448fa",
   "metadata": {},
   "source": [
    "16. Convert a string where words are separated by spaces to one where words\n",
    "are separated by underscores."
   ]
  },
  {
   "cell_type": "code",
   "execution_count": 118,
   "id": "a758882f-affa-4a32-b009-a812c55bcd81",
   "metadata": {},
   "outputs": [
    {
     "data": {
      "text/plain": [
       "'my_name_is_siddharth'"
      ]
     },
     "execution_count": 118,
     "metadata": {},
     "output_type": "execute_result"
    }
   ],
   "source": [
    "string = 'my name is siddharth'\n",
    "string.replace(' ', '_')"
   ]
  },
  {
   "cell_type": "markdown",
   "id": "b8d38399-82d1-4785-9232-49a13b3d7ae6",
   "metadata": {},
   "source": [
    "17. Check if a string starts with a specific word or phrase."
   ]
  },
  {
   "cell_type": "code",
   "execution_count": 119,
   "id": "9e41b7bc-e8a9-49c3-a1d2-af6d645b6a34",
   "metadata": {},
   "outputs": [
    {
     "name": "stdout",
     "output_type": "stream",
     "text": [
      "The string starts with 'Hello'\n"
     ]
    }
   ],
   "source": [
    "# Example string\n",
    "my_string = \"Hello, World!\"\n",
    "\n",
    "# Check if the string starts with a specific word or phrase\n",
    "if my_string.startswith(\"Hello\"):\n",
    "    print(\"The string starts with 'Hello'\")\n",
    "else:\n",
    "    print(\"The string does not start with 'Hello'\")"
   ]
  },
  {
   "cell_type": "markdown",
   "id": "85a23b06-fa9e-4038-9ec5-f86fccb65e11",
   "metadata": {},
   "source": [
    "18. Check if a string ends with a specific word or phrase."
   ]
  },
  {
   "cell_type": "code",
   "execution_count": 120,
   "id": "9c607938-e812-4966-bb2a-668b7246f705",
   "metadata": {},
   "outputs": [
    {
     "name": "stdout",
     "output_type": "stream",
     "text": [
      "The string ends with 'World!'\n"
     ]
    }
   ],
   "source": [
    "# Example string\n",
    "my_string = \"Hello, World!\"\n",
    "\n",
    "# Check if the string ends with a specific word or phrase\n",
    "if my_string.endswith(\"World!\"):\n",
    "    print(\"The string ends with 'World!'\")\n",
    "else:\n",
    "    print(\"The string does not ends with 'World!'\")"
   ]
  },
  {
   "cell_type": "markdown",
   "id": "0f2896f1-5f68-4897-ac21-805d3fda66c0",
   "metadata": {},
   "source": [
    "19. Convert a string to title case (e.g., \"hello world\" to \"Hello World\")."
   ]
  },
  {
   "cell_type": "code",
   "execution_count": 121,
   "id": "53475aaf-39d3-4318-aee2-e270b4617901",
   "metadata": {},
   "outputs": [
    {
     "data": {
      "text/plain": [
       "'Hello World'"
      ]
     },
     "execution_count": 121,
     "metadata": {},
     "output_type": "execute_result"
    }
   ],
   "source": [
    "string = \"hello world\"\n",
    "string.title()"
   ]
  },
  {
   "cell_type": "markdown",
   "id": "27e24d9c-9d02-46d3-9cad-909abffb89e0",
   "metadata": {},
   "source": [
    "20. Find the longest word in a string."
   ]
  },
  {
   "cell_type": "code",
   "execution_count": 122,
   "id": "ae89a345-2b31-4f89-974e-94c2c2fbdba2",
   "metadata": {},
   "outputs": [
    {
     "name": "stdout",
     "output_type": "stream",
     "text": [
      "Longest word: sentence\n"
     ]
    }
   ],
   "source": [
    "def find_longest_word(sentence):\n",
    "    words = sentence.split()\n",
    "    longest_word = max(words, key=len)\n",
    "    return longest_word\n",
    "\n",
    "# Example usage:\n",
    "input_string = \"This is a simple example sentence to find the longest word.\"\n",
    "result = find_longest_word(input_string)\n",
    "print(\"Longest word:\", result)\n"
   ]
  },
  {
   "cell_type": "markdown",
   "id": "2fd6279b-2532-41f7-b407-980d12534d15",
   "metadata": {},
   "source": [
    "21. Find the shortest word in a string."
   ]
  },
  {
   "cell_type": "code",
   "execution_count": 123,
   "id": "8e7c4cb1-4423-4ece-8a36-12e57a60813e",
   "metadata": {},
   "outputs": [
    {
     "name": "stdout",
     "output_type": "stream",
     "text": [
      "Shortest word: a\n"
     ]
    }
   ],
   "source": [
    "def find_shortest_word(input_string):\n",
    "    words = input_string.split()\n",
    "    shortest_word = min(words, key=len)\n",
    "    return shortest_word\n",
    "\n",
    "# Example usage:\n",
    "input_string = \"This is a sample string with some words.\"\n",
    "result = find_shortest_word(input_string)\n",
    "print(\"Shortest word:\", result)\n"
   ]
  },
  {
   "cell_type": "markdown",
   "id": "5e3c72fc-2ea1-4054-a187-c49edbfdd62b",
   "metadata": {},
   "source": [
    "22. Reverse the order of words in a string."
   ]
  },
  {
   "cell_type": "code",
   "execution_count": 124,
   "id": "067fb390-cea8-47f4-815b-1db95e454699",
   "metadata": {},
   "outputs": [
    {
     "data": {
      "text/plain": [
       "'htrahddis'"
      ]
     },
     "execution_count": 124,
     "metadata": {},
     "output_type": "execute_result"
    }
   ],
   "source": [
    "string = 'siddharth'\n",
    "string[::-1]"
   ]
  },
  {
   "cell_type": "markdown",
   "id": "0b3f350a-19a8-45e7-af12-64a3e3732368",
   "metadata": {},
   "source": [
    "23. Check if a string is alphanumeric."
   ]
  },
  {
   "cell_type": "code",
   "execution_count": 125,
   "id": "aa69ddbd-49f1-4455-9c6d-56802c6f5d06",
   "metadata": {},
   "outputs": [
    {
     "data": {
      "text/plain": [
       "True"
      ]
     },
     "execution_count": 125,
     "metadata": {},
     "output_type": "execute_result"
    }
   ],
   "source": [
    "string = 'siddharth123'\n",
    "string.isalnum()"
   ]
  },
  {
   "cell_type": "markdown",
   "id": "ec6e9019-f6ec-4660-9260-604714dfe63c",
   "metadata": {},
   "source": [
    "24. Extract all digits from a string."
   ]
  },
  {
   "cell_type": "code",
   "execution_count": 126,
   "id": "f825d441-3e07-4351-8d89-2f8ffe011408",
   "metadata": {},
   "outputs": [
    {
     "name": "stdout",
     "output_type": "stream",
     "text": [
      "[1, 2, 3, 4, 5, 6]\n"
     ]
    }
   ],
   "source": [
    "input_string = \"abc123xyz456\"\n",
    "\n",
    "# Extract digits using list comprehension and isdigit()\n",
    "digits = [int(char) for char in input_string if char.isdigit()]\n",
    "\n",
    "# Print the result\n",
    "print(digits)\n"
   ]
  },
  {
   "cell_type": "markdown",
   "id": "2eafd253-fc3f-4e72-9bc6-c6f5ac4ae0dc",
   "metadata": {},
   "source": [
    "25. Extract all alphabets from a string."
   ]
  },
  {
   "cell_type": "code",
   "execution_count": 127,
   "id": "464a0c0d-4f89-4ea7-ada5-0850117924e7",
   "metadata": {},
   "outputs": [
    {
     "name": "stdout",
     "output_type": "stream",
     "text": [
      "HelloWorld\n"
     ]
    }
   ],
   "source": [
    "input_string = \"Hello123World\"\n",
    "\n",
    "alphabets_only = [char for char in input_string if char.isalpha()]\n",
    "\n",
    "result = ''.join(alphabets_only)\n",
    "\n",
    "print(result)\n"
   ]
  },
  {
   "cell_type": "markdown",
   "id": "5d8ae0b6-1484-4290-80b7-6ca384cf3909",
   "metadata": {},
   "source": [
    "26. Count the number of uppercase letters in a string."
   ]
  },
  {
   "cell_type": "code",
   "execution_count": 128,
   "id": "e187b0ee-7262-4164-a7a1-ddcec9fd8e38",
   "metadata": {},
   "outputs": [
    {
     "name": "stdout",
     "output_type": "stream",
     "text": [
      "The number of uppercase letters in \"Hello World\" is: 2\n"
     ]
    }
   ],
   "source": [
    "def count_uppercase_letters(input_string):\n",
    "    count = 0\n",
    "    for char in input_string:\n",
    "        if char.isupper():\n",
    "            count += 1\n",
    "    return count\n",
    "\n",
    "# Example usage:\n",
    "input_string = \"Hello World\"\n",
    "result = count_uppercase_letters(input_string)\n",
    "print(f'The number of uppercase letters in \"{input_string}\" is: {result}')\n"
   ]
  },
  {
   "cell_type": "markdown",
   "id": "b9ac6abe-de8a-4d89-b7bf-e5e0e972dc08",
   "metadata": {},
   "source": [
    "27. Count the number of lowercase letters in a string."
   ]
  },
  {
   "cell_type": "code",
   "execution_count": 129,
   "id": "f795425a-7d09-4de3-933a-70f92aead394",
   "metadata": {},
   "outputs": [
    {
     "name": "stdout",
     "output_type": "stream",
     "text": [
      "8\n"
     ]
    }
   ],
   "source": [
    "input_string = \"Hello World\"\n",
    "lowercase_count = sum(1 for char in input_string if char.islower())\n",
    "print(lowercase_count)\n"
   ]
  },
  {
   "cell_type": "markdown",
   "id": "e38f7a9f-ccb1-45ed-9c1f-c31c63dea35d",
   "metadata": {},
   "source": [
    "28. Swap the case of each character in a string."
   ]
  },
  {
   "cell_type": "code",
   "execution_count": 130,
   "id": "4079be60-0219-4160-b230-a2a9bb1219f5",
   "metadata": {},
   "outputs": [
    {
     "data": {
      "text/plain": [
       "'hELLO wORLD'"
      ]
     },
     "execution_count": 130,
     "metadata": {},
     "output_type": "execute_result"
    }
   ],
   "source": [
    "s = \"Hello World\"\n",
    "s.swapcase()"
   ]
  },
  {
   "cell_type": "markdown",
   "id": "29cea67e-ec0d-4f98-a1b0-ecae476ed40e",
   "metadata": {},
   "source": [
    "29. Remove a specific word from a string.\n"
   ]
  },
  {
   "cell_type": "code",
   "execution_count": 131,
   "id": "f03f718e-f7b4-4cba-bd77-51db07bfb75c",
   "metadata": {},
   "outputs": [
    {
     "name": "stdout",
     "output_type": "stream",
     "text": [
      "is a sample sentence. Remove this.\n"
     ]
    }
   ],
   "source": [
    "def remove_word(input_string, word_to_remove):\n",
    "    return ' '.join(word for word in input_string.split() if word.lower() != word_to_remove.lower())\n",
    "\n",
    "# Example usage:\n",
    "original_string = \"This is a sample sentence. Remove this.\"\n",
    "word_to_remove = \"this\"\n",
    "new_string = remove_word(original_string, word_to_remove)\n",
    "print(new_string)\n"
   ]
  },
  {
   "cell_type": "markdown",
   "id": "d93971ba-c06c-4006-9d33-78b8a7517ded",
   "metadata": {},
   "source": [
    "30. Check if a string is a valid email address."
   ]
  },
  {
   "cell_type": "code",
   "execution_count": 132,
   "id": "f986b101-e66b-480b-b791-72449a512fe1",
   "metadata": {},
   "outputs": [
    {
     "name": "stdout",
     "output_type": "stream",
     "text": [
      "user@example.com is a valid email address.\n"
     ]
    }
   ],
   "source": [
    "import re\n",
    "\n",
    "def is_valid_email(email):\n",
    "    # Regular expression for a simple email validation\n",
    "    email_pattern = r'^\\S+@\\S+\\.\\S+$'\n",
    "    return bool(re.match(email_pattern, email))\n",
    "\n",
    "# Example usage:\n",
    "email_address = \"user@example.com\"\n",
    "if is_valid_email(email_address):\n",
    "    print(f\"{email_address} is a valid email address.\")\n",
    "else:\n",
    "    print(f\"{email_address} is not a valid email address.\")\n"
   ]
  },
  {
   "cell_type": "markdown",
   "id": "29204b91-d7be-4a78-8e60-dc4f3d0ac993",
   "metadata": {},
   "source": [
    "31. Extract the username from an email address string.\n"
   ]
  },
  {
   "cell_type": "code",
   "execution_count": 133,
   "id": "d14cdf1a-88c0-4a91-8f41-f6794d42c2e6",
   "metadata": {},
   "outputs": [
    {
     "name": "stdout",
     "output_type": "stream",
     "text": [
      "user\n"
     ]
    }
   ],
   "source": [
    "def extract_username(email):\n",
    "    return email.split('@')[0]\n",
    "\n",
    "# Example usage:\n",
    "email_address = 'user@example.com'\n",
    "username = extract_username(email_address)\n",
    "print(username)\n"
   ]
  },
  {
   "cell_type": "markdown",
   "id": "597406bb-90cb-4ab0-811b-736eb6e51ea4",
   "metadata": {},
   "source": [
    "32. Extract the domain name from an email address string.\n"
   ]
  },
  {
   "cell_type": "code",
   "execution_count": 134,
   "id": "6dddb0d2-c278-4ea0-952a-11aaf0341acd",
   "metadata": {},
   "outputs": [
    {
     "name": "stdout",
     "output_type": "stream",
     "text": [
      "example.com\n"
     ]
    }
   ],
   "source": [
    "def extract_domain(email):\n",
    "    return email.split('@')[1]\n",
    "\n",
    "# Example usage:\n",
    "email_address = 'user@example.com'\n",
    "domain = extract_domain(email_address)\n",
    "print(domain)\n"
   ]
  },
  {
   "cell_type": "markdown",
   "id": "847a5467-8e54-4655-9d92-41d0fc6aae06",
   "metadata": {},
   "source": [
    "33. Replace multiple spaces in a string with a single space.\n"
   ]
  },
  {
   "cell_type": "code",
   "execution_count": 135,
   "id": "7d84fbe6-5ba7-484c-8b3a-6403eff3d0f4",
   "metadata": {},
   "outputs": [
    {
     "name": "stdout",
     "output_type": "stream",
     "text": [
      "This is a text with spaces.\n"
     ]
    }
   ],
   "source": [
    "def replace_multiple_spaces(text):\n",
    "    return ' '.join(text.split())\n",
    "\n",
    "# Example usage:\n",
    "text_with_multiple_spaces = 'This    is   a    text    with   spaces.'\n",
    "cleaned_text = replace_multiple_spaces(text_with_multiple_spaces)\n",
    "print(cleaned_text)\n"
   ]
  },
  {
   "cell_type": "markdown",
   "id": "45617b40-05c1-4b61-b57f-b65aece4eece",
   "metadata": {},
   "source": [
    "34. Check if a string is a valid URL.\n"
   ]
  },
  {
   "cell_type": "code",
   "execution_count": 136,
   "id": "7c174b3d-d257-48ae-9bdd-52e126301e30",
   "metadata": {},
   "outputs": [
    {
     "name": "stdout",
     "output_type": "stream",
     "text": [
      "True\n"
     ]
    }
   ],
   "source": [
    "from urllib.parse import urlparse\n",
    "\n",
    "def is_valid_url(url):\n",
    "    try:\n",
    "        result = urlparse(url)\n",
    "        return all([result.scheme, result.netloc])\n",
    "    except ValueError:\n",
    "        return False\n",
    "\n",
    "# Example usage:\n",
    "url = 'https://www.example.com'\n",
    "print(is_valid_url(url))\n"
   ]
  },
  {
   "cell_type": "markdown",
   "id": "06932bfe-9f97-401c-9ced-8765e33a64e8",
   "metadata": {},
   "source": [
    "35. Extract the protocol (http or https) from a URL string.\n"
   ]
  },
  {
   "cell_type": "code",
   "execution_count": 137,
   "id": "345158c3-4d23-409f-90cb-0c594ea54ded",
   "metadata": {},
   "outputs": [
    {
     "name": "stdout",
     "output_type": "stream",
     "text": [
      "https\n"
     ]
    }
   ],
   "source": [
    "from urllib.parse import urlparse\n",
    "\n",
    "def extract_protocol(url):\n",
    "    return urlparse(url).scheme\n",
    "\n",
    "# Example usage:\n",
    "url = 'https://www.example.com'\n",
    "protocol = extract_protocol(url)\n",
    "print(protocol)\n"
   ]
  },
  {
   "cell_type": "markdown",
   "id": "6614527e-d8ea-445b-bcb7-074afff3201a",
   "metadata": {},
   "source": [
    "36. Find the frequency of each character in a string.\n"
   ]
  },
  {
   "cell_type": "code",
   "execution_count": 138,
   "id": "402af707-f703-4ab5-bb92-fdb5c0b42d48",
   "metadata": {},
   "outputs": [
    {
     "name": "stdout",
     "output_type": "stream",
     "text": [
      "Counter({'a': 5, 'b': 2, 'r': 2, 'c': 1, 'd': 1})\n"
     ]
    }
   ],
   "source": [
    "from collections import Counter\n",
    "\n",
    "def character_frequency(text):\n",
    "    return Counter(text)\n",
    "\n",
    "# Example usage:\n",
    "input_string = 'abracadabra'\n",
    "frequency = character_frequency(input_string)\n",
    "print(frequency)\n"
   ]
  },
  {
   "cell_type": "markdown",
   "id": "d7505353-e76c-451d-8214-cc5683fdbac8",
   "metadata": {},
   "source": [
    "37. Remove all punctuation from a string.\n"
   ]
  },
  {
   "cell_type": "code",
   "execution_count": 140,
   "id": "92fb1c91-9f78-448c-89cd-030656402f30",
   "metadata": {},
   "outputs": [
    {
     "data": {
      "text/plain": [
       "'hellow world'"
      ]
     },
     "execution_count": 140,
     "metadata": {},
     "output_type": "execute_result"
    }
   ],
   "source": [
    "s = 'hellow world!'\n",
    "s.replace('!', '')"
   ]
  },
  {
   "cell_type": "markdown",
   "id": "af6c6b54-05d9-4db5-b24f-b40bc8fde582",
   "metadata": {},
   "source": [
    "38. Check if a string contains only digits:\n"
   ]
  },
  {
   "cell_type": "code",
   "execution_count": 142,
   "id": "66fe60c6-2838-4081-b015-8dde11ef397f",
   "metadata": {},
   "outputs": [
    {
     "data": {
      "text/plain": [
       "True"
      ]
     },
     "execution_count": 142,
     "metadata": {},
     "output_type": "execute_result"
    }
   ],
   "source": [
    "s = '1234'\n",
    "s.isdigit()\n"
   ]
  },
  {
   "cell_type": "markdown",
   "id": "f4822ef4-e307-42d1-871d-e22b09ce80db",
   "metadata": {},
   "source": [
    "39. Check if a string contains only alphabets:\n"
   ]
  },
  {
   "cell_type": "code",
   "execution_count": 151,
   "id": "5ab35951-40f3-4ab3-8eb9-094769f7234b",
   "metadata": {},
   "outputs": [
    {
     "data": {
      "text/plain": [
       "True"
      ]
     },
     "execution_count": 151,
     "metadata": {},
     "output_type": "execute_result"
    }
   ],
   "source": [
    "s = 'siddharth'\n",
    "s.isalpha()"
   ]
  },
  {
   "cell_type": "markdown",
   "id": "e9168a58-9dbd-4196-971f-b09f476cf828",
   "metadata": {},
   "source": [
    "40. Convert a string to a list of characters:\n"
   ]
  },
  {
   "cell_type": "code",
   "execution_count": 152,
   "id": "3c69146e-6b38-4abe-85a5-6f69a6d9e277",
   "metadata": {},
   "outputs": [
    {
     "data": {
      "text/plain": [
       "['s', 'i', 'd', 'd', 'h', 'a', 'r', 't', 'h']"
      ]
     },
     "execution_count": 152,
     "metadata": {},
     "output_type": "execute_result"
    }
   ],
   "source": [
    "s = 'siddharth'\n",
    "list(s)"
   ]
  },
  {
   "cell_type": "markdown",
   "id": "7c4601c9-2b92-4eeb-9e06-8c2d341caafe",
   "metadata": {},
   "source": [
    "41. Check if two strings are anagrams:\n"
   ]
  },
  {
   "cell_type": "code",
   "execution_count": 155,
   "id": "232395a5-4c87-47a1-ac9d-9a9f0232317b",
   "metadata": {},
   "outputs": [
    {
     "name": "stdout",
     "output_type": "stream",
     "text": [
      "True\n"
     ]
    }
   ],
   "source": [
    "def are_anagrams(str1, str2):\n",
    "    return sorted(str1) == sorted(str2)\n",
    "\n",
    "# Example usage:\n",
    "string1 = \"listen\"\n",
    "string2 = \"silent\"\n",
    "result = are_anagrams(string1, string2)\n",
    "print(result) "
   ]
  },
  {
   "cell_type": "markdown",
   "id": "2a364995-1423-496c-9be9-e302d9eef506",
   "metadata": {},
   "source": [
    "42. Encode a string using a Caesar cipher:\n"
   ]
  },
  {
   "cell_type": "code",
   "execution_count": 156,
   "id": "935001d4-7aff-4692-b640-415b6533adfb",
   "metadata": {},
   "outputs": [
    {
     "name": "stdout",
     "output_type": "stream",
     "text": [
      "Khoor\n"
     ]
    }
   ],
   "source": [
    "def caesar_cipher_encode(s, shift):\n",
    "    result = \"\"\n",
    "    for char in s:\n",
    "        if char.isalpha():\n",
    "            offset = ord('a') if char.islower() else ord('A')\n",
    "            result += chr((ord(char) - offset + shift) % 26 + offset)\n",
    "        else:\n",
    "            result += char\n",
    "    return result\n",
    "\n",
    "# Example usage:\n",
    "string_example = \"Hello\"\n",
    "shift_amount = 3\n",
    "result = caesar_cipher_encode(string_example, shift_amount)\n",
    "print(result)  \n"
   ]
  },
  {
   "cell_type": "markdown",
   "id": "eb210b7f-49e8-4643-9c58-c1b5481dc2a2",
   "metadata": {},
   "source": [
    "43. Decode a Caesar cipher encoded string:\n"
   ]
  },
  {
   "cell_type": "code",
   "execution_count": 157,
   "id": "40add4ae-8ed0-4854-919e-872f2a2126f2",
   "metadata": {},
   "outputs": [
    {
     "name": "stdout",
     "output_type": "stream",
     "text": [
      "Hello\n"
     ]
    }
   ],
   "source": [
    "def caesar_cipher_decode(s, shift):\n",
    "    return caesar_cipher_encode(s, -shift)\n",
    "\n",
    "# Example usage:\n",
    "encoded_string = \"Khoor\"\n",
    "shift_amount = 3\n",
    "result = caesar_cipher_decode(encoded_string, shift_amount)\n",
    "print(result) \n"
   ]
  },
  {
   "cell_type": "markdown",
   "id": "355da1d3-3884-4b92-853b-2b570adf02ed",
   "metadata": {},
   "source": [
    "44. Find the most frequent word in a string:\n"
   ]
  },
  {
   "cell_type": "code",
   "execution_count": 158,
   "id": "1fffa0c5-2c2c-473a-a8ab-4ddc0d69bdaf",
   "metadata": {},
   "outputs": [
    {
     "name": "stdout",
     "output_type": "stream",
     "text": [
      "This\n"
     ]
    }
   ],
   "source": [
    "from collections import Counter\n",
    "\n",
    "def most_frequent_word(s):\n",
    "    words = s.split()\n",
    "    word_counts = Counter(words)\n",
    "    most_common_word = word_counts.most_common(1)\n",
    "    return most_common_word[0][0] if most_common_word else None\n",
    "\n",
    "# Example usage:\n",
    "string_example = \"This is a sample string. This string contains some words.\"\n",
    "result = most_frequent_word(string_example)\n",
    "print(result) "
   ]
  },
  {
   "cell_type": "markdown",
   "id": "ea3dd9d9-7acb-4c18-8a28-66fa9570d98d",
   "metadata": {},
   "source": [
    "45. Find all unique words in a string:\n"
   ]
  },
  {
   "cell_type": "code",
   "execution_count": 159,
   "id": "ed0576a4-4c99-4d10-8244-ed61533286a0",
   "metadata": {},
   "outputs": [
    {
     "name": "stdout",
     "output_type": "stream",
     "text": [
      "['words.', 'contains', 'sample', 'some', 'This', 'a', 'is', 'string.', 'string']\n"
     ]
    }
   ],
   "source": [
    "def unique_words(s):\n",
    "    words = s.split()\n",
    "    return list(set(words))\n",
    "\n",
    "# Example usage:\n",
    "string_example = \"This is a sample string. This string contains some words.\"\n",
    "result = unique_words(string_example)\n",
    "print(result) "
   ]
  },
  {
   "cell_type": "markdown",
   "id": "a041ef90-ef29-4823-97c6-119acd944179",
   "metadata": {},
   "source": [
    "46. Count the number of syllables in a string:\n"
   ]
  },
  {
   "cell_type": "code",
   "execution_count": 160,
   "id": "15b36388-09ae-4fe0-9603-003173bb3630",
   "metadata": {},
   "outputs": [
    {
     "name": "stdout",
     "output_type": "stream",
     "text": [
      "The word 'example' has 2 syllables.\n"
     ]
    }
   ],
   "source": [
    "def count_syllables(word):\n",
    "    vowels = \"aeiouy\"\n",
    "    count = 0\n",
    "\n",
    "    if word[0] in vowels:\n",
    "        count += 1\n",
    "\n",
    "    for index in range(1, len(word)):\n",
    "        if word[index] in vowels and word[index - 1] not in vowels:\n",
    "            count += 1\n",
    "\n",
    "    if word.endswith(\"e\"):\n",
    "        count -= 1\n",
    "\n",
    "    if count == 0:\n",
    "        count += 1\n",
    "\n",
    "    return count\n",
    "\n",
    "# Example:\n",
    "word = \"example\"\n",
    "syllable_count = count_syllables(word)\n",
    "print(f\"The word '{word}' has {syllable_count} syllables.\")\n"
   ]
  },
  {
   "cell_type": "markdown",
   "id": "04f0118a-c3fb-4b6e-a057-89182e409482",
   "metadata": {},
   "source": [
    "47. Check if a string contains any special characters:\n"
   ]
  },
  {
   "cell_type": "code",
   "execution_count": 161,
   "id": "695c6711-2ddc-4da6-90fb-a8e7a275ab2a",
   "metadata": {},
   "outputs": [
    {
     "name": "stdout",
     "output_type": "stream",
     "text": [
      "The string 'Hello, world!' contains special characters: True\n"
     ]
    }
   ],
   "source": [
    "import string\n",
    "\n",
    "def contains_special_characters(input_string):\n",
    "    special_characters = set(string.punctuation)\n",
    "    return any(char in special_characters for char in input_string)\n",
    "\n",
    "# Example:\n",
    "input_str = \"Hello, world!\"\n",
    "contains_special = contains_special_characters(input_str)\n",
    "print(f\"The string '{input_str}' contains special characters: {contains_special}\")\n"
   ]
  },
  {
   "cell_type": "markdown",
   "id": "827eeefc-870f-4391-ac0e-f855d2e08a33",
   "metadata": {},
   "source": [
    "48. Remove the nth word from a string:\n"
   ]
  },
  {
   "cell_type": "code",
   "execution_count": 162,
   "id": "89d3c79a-edb1-4693-8d55-58a5767e83cd",
   "metadata": {},
   "outputs": [
    {
     "name": "stdout",
     "output_type": "stream",
     "text": [
      "After removing the 3th word: This is sample sentence.\n"
     ]
    }
   ],
   "source": [
    "def remove_nth_word(input_string, n):\n",
    "    words = input_string.split()\n",
    "    if 1 <= n <= len(words):\n",
    "        del words[n - 1]\n",
    "        return ' '.join(words)\n",
    "    else:\n",
    "        return \"Invalid value for n.\"\n",
    "\n",
    "# Example:\n",
    "input_str = \"This is a sample sentence.\"\n",
    "n = 3\n",
    "result = remove_nth_word(input_str, n)\n",
    "print(f\"After removing the {n}th word: {result}\")\n"
   ]
  },
  {
   "cell_type": "markdown",
   "id": "d93be900-61e5-4924-8a45-d9f35ffb07c7",
   "metadata": {},
   "source": [
    "49. Insert a word at the nth position in a string:\n"
   ]
  },
  {
   "cell_type": "code",
   "execution_count": 163,
   "id": "e5638f9c-d91f-48c5-8f49-25b0447d4d03",
   "metadata": {},
   "outputs": [
    {
     "name": "stdout",
     "output_type": "stream",
     "text": [
      "After inserting 'new' at position 3: This is new a sample sentence.\n"
     ]
    }
   ],
   "source": [
    "def insert_word_at_nth_position(input_string, word, n):\n",
    "    words = input_string.split()\n",
    "    words.insert(n - 1, word)\n",
    "    return ' '.join(words)\n",
    "\n",
    "# Example:\n",
    "input_str = \"This is a sample sentence.\"\n",
    "word_to_insert = \"new\"\n",
    "position_to_insert = 3\n",
    "result = insert_word_at_nth_position(input_str, word_to_insert, position_to_insert)\n",
    "print(f\"After inserting '{word_to_insert}' at position {position_to_insert}: {result}\")\n"
   ]
  },
  {
   "cell_type": "markdown",
   "id": "f984bc8e-6223-4b83-8e45-01744488a873",
   "metadata": {},
   "source": [
    "50. Convert a CSV string to a list of lists:\n"
   ]
  },
  {
   "cell_type": "code",
   "execution_count": 164,
   "id": "00192e30-7dcd-4ed6-94e1-722e5bd286b4",
   "metadata": {},
   "outputs": [
    {
     "name": "stdout",
     "output_type": "stream",
     "text": [
      "CSV as List of Lists:\n",
      "['1', 'John', 'Doe']\n",
      "['2', 'Jane', 'Smith']\n",
      "['3', 'Bob', 'Johnson']\n"
     ]
    }
   ],
   "source": [
    "import csv\n",
    "from io import StringIO\n",
    "\n",
    "def csv_string_to_list_of_lists(csv_string):\n",
    "    csv_reader = csv.reader(StringIO(csv_string))\n",
    "    return [row for row in csv_reader]\n",
    "\n",
    "# Example:\n",
    "csv_string = \"1,John,Doe\\n2,Jane,Smith\\n3,Bob,Johnson\"\n",
    "csv_list = csv_string_to_list_of_lists(csv_string)\n",
    "print(\"CSV as List of Lists:\")\n",
    "for row in csv_list:\n",
    "    print(row)\n"
   ]
  },
  {
   "cell_type": "markdown",
   "id": "163ad90a-6572-4c4f-bd66-8c4960f72a2c",
   "metadata": {},
   "source": [
    "-------------------------------------------------------------------------------------------------------------------"
   ]
  },
  {
   "cell_type": "markdown",
   "id": "de02a96a-3a66-4233-af8b-2e8c97546790",
   "metadata": {},
   "source": [
    "List Based Practice Problem :"
   ]
  },
  {
   "cell_type": "markdown",
   "id": "cf56106d-8c24-4b32-a46b-cb29c5fa95e3",
   "metadata": {},
   "source": [
    "1. Create a list with integers from 1 to 10."
   ]
  },
  {
   "cell_type": "code",
   "execution_count": 166,
   "id": "83f9be77-2841-41b3-86a0-4ecfcb0ba074",
   "metadata": {},
   "outputs": [
    {
     "name": "stdout",
     "output_type": "stream",
     "text": [
      "[1, 2, 3, 4, 5, 6, 7, 8, 9, 10]\n"
     ]
    }
   ],
   "source": [
    "my_list = list(range(1, 11))\n",
    "print(my_list)\n"
   ]
  },
  {
   "cell_type": "markdown",
   "id": "b9e34656-e9e0-41bc-9a95-0cfe4dcd76b8",
   "metadata": {},
   "source": [
    "2. Find the length of a list without using the len() function:\n"
   ]
  },
  {
   "cell_type": "code",
   "execution_count": 167,
   "id": "f61e59db-7a83-43c8-9a62-3f85faeb5d2c",
   "metadata": {},
   "outputs": [
    {
     "name": "stdout",
     "output_type": "stream",
     "text": [
      "Length of the list: 5\n"
     ]
    }
   ],
   "source": [
    "my_list = [1, 2, 3, 4, 5]\n",
    "length = 0\n",
    "\n",
    "for _ in my_list:\n",
    "    length += 1\n",
    "\n",
    "print(\"Length of the list:\", length)\n"
   ]
  },
  {
   "cell_type": "markdown",
   "id": "1b2cef7e-ae8d-495e-8cb5-9670a64af2ae",
   "metadata": {},
   "source": [
    "3. Append an element to the end of a list:\n"
   ]
  },
  {
   "cell_type": "code",
   "execution_count": 172,
   "id": "48843205-3e95-4545-b80c-6c4d4bea7349",
   "metadata": {},
   "outputs": [
    {
     "name": "stdout",
     "output_type": "stream",
     "text": [
      "[1, 2, 3, 4, 5, 6]\n"
     ]
    }
   ],
   "source": [
    "a = [1,2,3,4,5]\n",
    "a.append(6)\n",
    "print(a)"
   ]
  },
  {
   "cell_type": "markdown",
   "id": "c6c1dd53-0951-4830-9404-9e433ab8fe84",
   "metadata": {},
   "source": [
    "4. Insert an element at a specific index in a list:\n"
   ]
  },
  {
   "cell_type": "code",
   "execution_count": 178,
   "id": "b75ae280-167d-4358-b4a0-0cad151d0859",
   "metadata": {},
   "outputs": [
    {
     "name": "stdout",
     "output_type": "stream",
     "text": [
      "[1, 2, 6, 3, 4, 5]\n"
     ]
    }
   ],
   "source": [
    "a = [1,2,3,4,5]\n",
    "a.insert(2,6)\n",
    "print(a)"
   ]
  },
  {
   "cell_type": "markdown",
   "id": "f5a6fd0a-3483-4ae7-9f86-962e1be6473e",
   "metadata": {},
   "source": [
    "5. Remove an element from a list by its value:"
   ]
  },
  {
   "cell_type": "code",
   "execution_count": 1,
   "id": "8ae90b18-2d44-4110-a453-77c4fd1f96a4",
   "metadata": {},
   "outputs": [
    {
     "name": "stdout",
     "output_type": "stream",
     "text": [
      "[1, 3, 4, 5]\n"
     ]
    }
   ],
   "source": [
    "a = [1,2,3,4,5]\n",
    "a.remove(2)\n",
    "print(a)"
   ]
  },
  {
   "cell_type": "markdown",
   "id": "c13b4a97-f484-4352-b876-dfab53a5e427",
   "metadata": {},
   "source": [
    "6. Remove an element from a list by its index:\n"
   ]
  },
  {
   "cell_type": "code",
   "execution_count": 5,
   "id": "1b20b741-a4ef-4ec0-9059-f9a7228866ce",
   "metadata": {},
   "outputs": [
    {
     "name": "stdout",
     "output_type": "stream",
     "text": [
      "[1, 3, 4, 5]\n"
     ]
    }
   ],
   "source": [
    "a = [1,2,3,4,5]\n",
    "del a[1]\n",
    "print(a)"
   ]
  },
  {
   "cell_type": "markdown",
   "id": "5a534389-ee40-449b-a5a5-5cda3432f824",
   "metadata": {},
   "source": [
    "7. Check if an element exists in a list:\n"
   ]
  },
  {
   "cell_type": "code",
   "execution_count": 6,
   "id": "e0f3c3f6-7671-4cb7-a667-364c15c21618",
   "metadata": {},
   "outputs": [
    {
     "name": "stdout",
     "output_type": "stream",
     "text": [
      "3 exists in the list.\n"
     ]
    }
   ],
   "source": [
    "my_list = [1, 2, 3, 4, 5]\n",
    "element_to_check = 3\n",
    "if element_to_check in my_list:\n",
    "    print(f\"{element_to_check} exists in the list.\")\n",
    "else:\n",
    "    print(f\"{element_to_check} does not exist in the list.\")"
   ]
  },
  {
   "cell_type": "markdown",
   "id": "010392d3-6049-42a2-b261-c9f207644df2",
   "metadata": {},
   "source": [
    "8. Find the index of the first occurrence of an element in a list:\n"
   ]
  },
  {
   "cell_type": "code",
   "execution_count": 18,
   "id": "38367509-9bd1-466b-be8a-943810c819cb",
   "metadata": {},
   "outputs": [
    {
     "name": "stdout",
     "output_type": "stream",
     "text": [
      "The index of 3 is 2\n"
     ]
    }
   ],
   "source": [
    "my_list = [1, 2, 3, 4, 5]\n",
    "element_to_find = 3\n",
    "index = my_list.index(element_to_find)\n",
    "print(f\"The index of {element_to_find} is {index}\")\n"
   ]
  },
  {
   "cell_type": "markdown",
   "id": "af61637d-0bc5-4b85-9307-08fe90f7e6a4",
   "metadata": {},
   "source": [
    "9. Count the occurrences of an element in a list:\n"
   ]
  },
  {
   "cell_type": "code",
   "execution_count": 19,
   "id": "68fa268e-8038-47d6-bd94-bc51361c6712",
   "metadata": {},
   "outputs": [
    {
     "name": "stdout",
     "output_type": "stream",
     "text": [
      "3 occurs 3 times in the list.\n"
     ]
    }
   ],
   "source": [
    "my_list = [1, 2, 3, 4, 3, 5, 3]\n",
    "element_to_count = 3\n",
    "count = my_list.count(element_to_count)\n",
    "print(f\"{element_to_count} occurs {count} times in the list.\")\n"
   ]
  },
  {
   "cell_type": "markdown",
   "id": "39ea1335-2b4e-4d2b-93f0-ba3242628b0e",
   "metadata": {},
   "source": [
    "10. Reverse the order of elements in a list:\n"
   ]
  },
  {
   "cell_type": "code",
   "execution_count": 20,
   "id": "416005d3-ea81-4739-8aeb-0be70d58409d",
   "metadata": {},
   "outputs": [
    {
     "data": {
      "text/plain": [
       "[6, 5, 4, 3, 2, 1]"
      ]
     },
     "execution_count": 20,
     "metadata": {},
     "output_type": "execute_result"
    }
   ],
   "source": [
    "a = [1,2,3,4,5,6]\n",
    "a[::-1]"
   ]
  },
  {
   "cell_type": "markdown",
   "id": "f3bed106-484e-42dd-b547-6ffb0b4ebc20",
   "metadata": {},
   "source": [
    "11. Sort a list in ascending order.\n"
   ]
  },
  {
   "cell_type": "code",
   "execution_count": null,
   "id": "103d3009-4cee-44c5-82f1-972d63e68aa0",
   "metadata": {},
   "outputs": [
    {
     "name": "stdout",
     "output_type": "stream",
     "text": [
      "[1, 2, 4, 5, 8]\n"
     ]
    }
   ],
   "source": [
    "my_list = [4, 2, 8, 1, 5]\n",
    "sorted_list_ascending = sorted(my_list)\n",
    "print(sorted_list_ascending)"
   ]
  },
  {
   "cell_type": "markdown",
   "id": "4ed73e85-89ad-4aca-b327-0d5958c290be",
   "metadata": {},
   "source": [
    "12. Sort a list in descending order.\n"
   ]
  },
  {
   "cell_type": "code",
   "execution_count": 25,
   "id": "49941a26-3286-4469-96eb-ef71c3a4e2e7",
   "metadata": {},
   "outputs": [
    {
     "name": "stdout",
     "output_type": "stream",
     "text": [
      "[8, 5, 4, 2, 1]\n"
     ]
    }
   ],
   "source": [
    "my_list = [4, 2, 8, 1, 5]\n",
    "sorted_list_descending = sorted(my_list, reverse=True)\n",
    "print(sorted_list_descending)\n"
   ]
  },
  {
   "cell_type": "markdown",
   "id": "0dd68d7e-292d-42ef-9de8-9f57b260557a",
   "metadata": {},
   "source": [
    "13. Create a list of even numbers from 1 to 20.\n"
   ]
  },
  {
   "cell_type": "code",
   "execution_count": 27,
   "id": "97bbbe8f-dc8e-4706-9dfa-7834142217d8",
   "metadata": {},
   "outputs": [
    {
     "name": "stdout",
     "output_type": "stream",
     "text": [
      "[2, 4, 6, 8, 10, 12, 14, 16, 18, 20]\n"
     ]
    }
   ],
   "source": [
    "a = list(range(2,21,2))\n",
    "print(a)"
   ]
  },
  {
   "cell_type": "markdown",
   "id": "5f159a7c-3673-4063-85f8-d115a6ba9e91",
   "metadata": {},
   "source": [
    "14. Create a list of odd numbers from 1 to 20.\n"
   ]
  },
  {
   "cell_type": "code",
   "execution_count": 31,
   "id": "c06af2c8-539b-4f45-b6ab-63f2cad73f05",
   "metadata": {},
   "outputs": [
    {
     "name": "stdout",
     "output_type": "stream",
     "text": [
      "[1, 3, 5, 7, 9, 11, 13, 15, 17, 19]\n"
     ]
    }
   ],
   "source": [
    "a = list(range(1,21,2))\n",
    "print(a)"
   ]
  },
  {
   "cell_type": "markdown",
   "id": "b9177202-ca33-4b48-ae23-79b1419173f0",
   "metadata": {},
   "source": [
    "15. Find the sum of all elements in a list.\n"
   ]
  },
  {
   "cell_type": "code",
   "execution_count": 34,
   "id": "186766b3-f8c3-4e07-84fc-6681e0d5df73",
   "metadata": {},
   "outputs": [
    {
     "name": "stdout",
     "output_type": "stream",
     "text": [
      "11\n"
     ]
    }
   ],
   "source": [
    "a = [1,2,3,5]\n",
    "b = sum(a)\n",
    "print(b)"
   ]
  },
  {
   "cell_type": "markdown",
   "id": "9595fb13-2eb2-456e-aa14-d7e2ebebd435",
   "metadata": {},
   "source": [
    "16. Find the maximum value in a list.\n"
   ]
  },
  {
   "cell_type": "code",
   "execution_count": 35,
   "id": "faff80ad-e8d4-47b8-8cf7-f1d5b5253e69",
   "metadata": {},
   "outputs": [
    {
     "name": "stdout",
     "output_type": "stream",
     "text": [
      "5\n"
     ]
    }
   ],
   "source": [
    "a = [1,2,3,5]\n",
    "b = max(a)\n",
    "print(b)"
   ]
  },
  {
   "cell_type": "markdown",
   "id": "0f177221-c7d0-43af-aa3f-fd65479e79bb",
   "metadata": {},
   "source": [
    "17. Find the minimum value in a list.\n"
   ]
  },
  {
   "cell_type": "code",
   "execution_count": 36,
   "id": "ace8066e-319e-4349-8e0d-b27367d95134",
   "metadata": {},
   "outputs": [
    {
     "name": "stdout",
     "output_type": "stream",
     "text": [
      "1\n"
     ]
    }
   ],
   "source": [
    "a = [1,2,3,5]\n",
    "b = min(a)\n",
    "print(b)"
   ]
  },
  {
   "cell_type": "markdown",
   "id": "78017184-328b-4b4d-beef-aaa329b552ed",
   "metadata": {},
   "source": [
    "18. Create a list of squares of numbers from 1 to 10.\n"
   ]
  },
  {
   "cell_type": "code",
   "execution_count": 37,
   "id": "b2b2b907-022b-45bb-a5e5-7ba38c65901b",
   "metadata": {},
   "outputs": [
    {
     "name": "stdout",
     "output_type": "stream",
     "text": [
      "List of squares: [1, 4, 9, 16, 25, 36, 49, 64, 81, 100]\n"
     ]
    }
   ],
   "source": [
    "squares_list = [x**2 for x in range(1, 11)]\n",
    "print(\"List of squares:\", squares_list)\n"
   ]
  },
  {
   "cell_type": "markdown",
   "id": "404f1cae-da81-46d8-aed6-2ea76c843a0d",
   "metadata": {},
   "source": [
    "19. Create a list of random numbers.\n"
   ]
  },
  {
   "cell_type": "code",
   "execution_count": 42,
   "id": "499ea3c0-92dd-4f0f-8593-12d0d5f4ed5c",
   "metadata": {},
   "outputs": [
    {
     "name": "stdout",
     "output_type": "stream",
     "text": [
      "Random numbers: [80, 34, 29, 39, 95, 24, 9, 18, 38, 69]\n"
     ]
    }
   ],
   "source": [
    "import random\n",
    "\n",
    "random_list = [random.randint(1, 100) for _ in range(10)]\n",
    "print(\"Random numbers:\", random_list)\n"
   ]
  },
  {
   "cell_type": "markdown",
   "id": "e36eac22-10ea-46d6-8028-330821beaf5b",
   "metadata": {},
   "source": [
    "20. Remove duplicates from a list.\n"
   ]
  },
  {
   "cell_type": "code",
   "execution_count": 43,
   "id": "76fea9fe-8837-4819-a35c-ad39e6104f52",
   "metadata": {},
   "outputs": [
    {
     "name": "stdout",
     "output_type": "stream",
     "text": [
      "List without duplicates: [1, 2, 3, 4, 6, 8]\n"
     ]
    }
   ],
   "source": [
    "my_list = [3, 8, 1, 6, 2, 8, 4, 1, 6]\n",
    "unique_list = list(set(my_list))\n",
    "print(\"List without duplicates:\", unique_list)\n"
   ]
  },
  {
   "cell_type": "markdown",
   "id": "3c8e8716-df9e-408d-afe4-1a0fe319b391",
   "metadata": {},
   "source": [
    "21. Find the common elements between two lists.\n"
   ]
  },
  {
   "cell_type": "code",
   "execution_count": 44,
   "id": "0e07ad76-06cb-48ec-bfe1-57e6848127d8",
   "metadata": {},
   "outputs": [
    {
     "name": "stdout",
     "output_type": "stream",
     "text": [
      "Common elements: [3, 4, 5]\n"
     ]
    }
   ],
   "source": [
    "list1 = [1, 2, 3, 4, 5]\n",
    "list2 = [3, 4, 5, 6, 7]\n",
    "common_elements = list(set(list1) & set(list2))\n",
    "print(\"Common elements:\", common_elements)\n"
   ]
  },
  {
   "cell_type": "markdown",
   "id": "c33fb731-3e2d-44e4-9cca-00721d3d5250",
   "metadata": {},
   "source": [
    "22. Find the difference between two lists.\n"
   ]
  },
  {
   "cell_type": "code",
   "execution_count": 45,
   "id": "cf15e7a7-711a-4bb1-b452-738a9668eb4a",
   "metadata": {},
   "outputs": [
    {
     "name": "stdout",
     "output_type": "stream",
     "text": [
      "Difference: [1, 2]\n"
     ]
    }
   ],
   "source": [
    "list1 = [1, 2, 3, 4, 5]\n",
    "list2 = [3, 4, 5, 6, 7]\n",
    "difference = list(set(list1) - set(list2))\n",
    "print(\"Difference:\", difference)\n"
   ]
  },
  {
   "cell_type": "markdown",
   "id": "c1b79315-5535-49ad-a618-f3534d973846",
   "metadata": {},
   "source": [
    "23. Merge two lists:\n"
   ]
  },
  {
   "cell_type": "code",
   "execution_count": 46,
   "id": "91d61a2a-e896-423f-996c-92a7810b9364",
   "metadata": {},
   "outputs": [
    {
     "name": "stdout",
     "output_type": "stream",
     "text": [
      "[1, 2, 3, 4, 1, 2, 3, 4]\n"
     ]
    }
   ],
   "source": [
    "a = [1,2,3,4]\n",
    "b = [1,2,3,4]\n",
    "\n",
    "print(a + b)"
   ]
  },
  {
   "cell_type": "markdown",
   "id": "07b23f7f-5dec-4066-9bcd-569d8ee1ca75",
   "metadata": {},
   "source": [
    "24. Multiply all elements in a list by 2:\n"
   ]
  },
  {
   "cell_type": "code",
   "execution_count": 49,
   "id": "1f1af626-0123-4a56-ab90-3d41c611e79c",
   "metadata": {},
   "outputs": [
    {
     "name": "stdout",
     "output_type": "stream",
     "text": [
      "[2, 4, 6, 8, 10]\n"
     ]
    }
   ],
   "source": [
    "original_list = [1, 2, 3, 4, 5]\n",
    "multiplied_list = [x * 2 for x in original_list]\n",
    "print(multiplied_list)\n"
   ]
  },
  {
   "cell_type": "markdown",
   "id": "2c854fff-b472-4e49-bd41-bd144ce4c8f4",
   "metadata": {},
   "source": [
    "25. Filter out all even numbers from a list:\n"
   ]
  },
  {
   "cell_type": "code",
   "execution_count": 50,
   "id": "43af1482-185d-4b13-8e21-3c8e2598852f",
   "metadata": {},
   "outputs": [
    {
     "name": "stdout",
     "output_type": "stream",
     "text": [
      "[1, 3, 5]\n"
     ]
    }
   ],
   "source": [
    "original_list = [1, 2, 3, 4, 5, 6]\n",
    "filtered_list = [x for x in original_list if x % 2 != 0]\n",
    "print(filtered_list)\n"
   ]
  },
  {
   "cell_type": "markdown",
   "id": "c8c01e75-48d8-4301-8af7-7b1f97b96da6",
   "metadata": {},
   "source": [
    "26. Convert a list of strings to a list of integers:\n"
   ]
  },
  {
   "cell_type": "code",
   "execution_count": 51,
   "id": "fb82de02-cc2b-4fb7-8ab3-da8e3b05cc82",
   "metadata": {},
   "outputs": [
    {
     "name": "stdout",
     "output_type": "stream",
     "text": [
      "[1, 2, 3, 4]\n"
     ]
    }
   ],
   "source": [
    "string_list = [\"1\", \"2\", \"3\", \"4\"]\n",
    "int_list = [int(x) for x in string_list]\n",
    "print(int_list)\n"
   ]
  },
  {
   "cell_type": "markdown",
   "id": "debee7b7-e3ee-41b4-bbb1-9fcce889c41a",
   "metadata": {},
   "source": [
    "27. Convert a list of integers to a list of strings:\n"
   ]
  },
  {
   "cell_type": "code",
   "execution_count": 57,
   "id": "373d9e37-b7be-4170-9a5d-b8544dbd7574",
   "metadata": {},
   "outputs": [
    {
     "name": "stdout",
     "output_type": "stream",
     "text": [
      "['1', '2', '3', '4']\n"
     ]
    }
   ],
   "source": [
    "int_list = [1, 2, 3, 4]\n",
    "string_list = [str(x) for x in int_list]\n",
    "print(string_list)\n"
   ]
  },
  {
   "cell_type": "markdown",
   "id": "867e1b9b-c9bd-43ea-88a3-660547890188",
   "metadata": {},
   "source": [
    "28. Flatten a nested list:\n"
   ]
  },
  {
   "cell_type": "code",
   "execution_count": 58,
   "id": "b9d3247c-a726-45a8-831b-f3cfb53ff629",
   "metadata": {},
   "outputs": [
    {
     "name": "stdout",
     "output_type": "stream",
     "text": [
      "[1, 2, 3, 4, 5, 6, 7, 8, 9]\n"
     ]
    }
   ],
   "source": [
    "nested_list = [[1, 2, 3], [4, 5, 6], [7, 8, 9]]\n",
    "flat_list = [item for sublist in nested_list for item in sublist]\n",
    "print(flat_list)\n"
   ]
  },
  {
   "cell_type": "markdown",
   "id": "d1595a08-3ffb-484e-9279-fd58928c3fe8",
   "metadata": {},
   "source": [
    "29. Create a list of the first 10 Fibonacci numbers:\n"
   ]
  },
  {
   "cell_type": "code",
   "execution_count": 59,
   "id": "2f8ad086-8b46-4ffe-81b7-347ab5f04150",
   "metadata": {},
   "outputs": [
    {
     "name": "stdout",
     "output_type": "stream",
     "text": [
      "[0, 1, 1, 2, 3, 5, 8, 13, 21, 34]\n"
     ]
    }
   ],
   "source": [
    "def fibonacci(n):\n",
    "    fib_list = [0, 1]\n",
    "    while len(fib_list) < n:\n",
    "        fib_list.append(fib_list[-1] + fib_list[-2])\n",
    "    return fib_list\n",
    "\n",
    "first_10_fibonacci = fibonacci(10)\n",
    "print(first_10_fibonacci)\n"
   ]
  },
  {
   "cell_type": "markdown",
   "id": "879ca9d2-440e-410f-bbfe-c5cee1d7c441",
   "metadata": {},
   "source": [
    "30. Check if a list is sorted:\n"
   ]
  },
  {
   "cell_type": "code",
   "execution_count": 60,
   "id": "ec4d6ec8-982c-4f21-8c4c-1043ddc6610d",
   "metadata": {},
   "outputs": [
    {
     "name": "stdout",
     "output_type": "stream",
     "text": [
      "True\n"
     ]
    }
   ],
   "source": [
    "def is_sorted(lst):\n",
    "    return all(lst[i] <= lst[i+1] for i in range(len(lst)-1))\n",
    "\n",
    "my_list = [1, 2, 3, 4, 5]\n",
    "print(is_sorted(my_list))\n"
   ]
  },
  {
   "cell_type": "markdown",
   "id": "93a6716e-412f-406e-8fea-3aead3fd4f09",
   "metadata": {},
   "source": [
    "31. Rotate a list to the left by n positions:\n"
   ]
  },
  {
   "cell_type": "code",
   "execution_count": 61,
   "id": "39b4a6fe-1d82-41f0-b869-75373947ed79",
   "metadata": {},
   "outputs": [
    {
     "name": "stdout",
     "output_type": "stream",
     "text": [
      "[3, 4, 5, 1, 2]\n"
     ]
    }
   ],
   "source": [
    "def rotate_left(lst, n):\n",
    "    n = n % len(lst)\n",
    "    rotated_list = lst[n:] + lst[:n]\n",
    "    return rotated_list\n",
    "\n",
    "my_list = [1, 2, 3, 4, 5]\n",
    "result = rotate_left(my_list, 2)\n",
    "print(result)\n"
   ]
  },
  {
   "cell_type": "markdown",
   "id": "45a24f08-4e3c-4460-8db0-d6ec0e34b24d",
   "metadata": {},
   "source": [
    "32. Rotate a list to the right by n positions:\n"
   ]
  },
  {
   "cell_type": "code",
   "execution_count": 62,
   "id": "9a80c87d-fd8c-4e22-9a3b-e18a82eaadef",
   "metadata": {},
   "outputs": [
    {
     "name": "stdout",
     "output_type": "stream",
     "text": [
      "[4, 5, 1, 2, 3]\n"
     ]
    }
   ],
   "source": [
    "def rotate_right(lst, n):\n",
    "    n = n % len(lst)\n",
    "    rotated_list = lst[-n:] + lst[:-n]\n",
    "    return rotated_list\n",
    "\n",
    "my_list = [1, 2, 3, 4, 5]\n",
    "result = rotate_right(my_list, 2)\n",
    "print(result)\n"
   ]
  },
  {
   "cell_type": "markdown",
   "id": "a2cc79c5-a7f7-434b-bdee-1c2df082e2e4",
   "metadata": {},
   "source": [
    "33. Create a list of prime numbers up to 50.\n"
   ]
  },
  {
   "cell_type": "code",
   "execution_count": 63,
   "id": "a807ae6e-5df9-4533-aef4-8ccfc6318765",
   "metadata": {},
   "outputs": [
    {
     "name": "stdout",
     "output_type": "stream",
     "text": [
      "[2, 3, 5, 7, 11, 13, 17, 19, 23, 29, 31, 37, 41, 43, 47]\n"
     ]
    }
   ],
   "source": [
    "def is_prime(num):\n",
    "    if num < 2:\n",
    "        return False\n",
    "    for i in range(2, int(num**0.5) + 1):\n",
    "        if num % i == 0:\n",
    "            return False\n",
    "    return True\n",
    "\n",
    "prime_numbers_up_to_50 = [num for num in range(2, 51) if is_prime(num)]\n",
    "print(prime_numbers_up_to_50)\n"
   ]
  },
  {
   "cell_type": "markdown",
   "id": "9462c711-32ca-4379-9779-98e4f26c96a6",
   "metadata": {},
   "source": [
    "34. Split a list into chunks of size n.\n"
   ]
  },
  {
   "cell_type": "code",
   "execution_count": 64,
   "id": "e7dc0ba2-c7c1-44e2-a28e-64d6e214c345",
   "metadata": {},
   "outputs": [
    {
     "name": "stdout",
     "output_type": "stream",
     "text": [
      "[[1, 2, 3], [4, 5, 6], [7, 8, 9], [10]]\n"
     ]
    }
   ],
   "source": [
    "def split_into_chunks(lst, n):\n",
    "    return [lst[i:i+n] for i in range(0, len(lst), n)]\n",
    "\n",
    "my_list = [1, 2, 3, 4, 5, 6, 7, 8, 9, 10]\n",
    "chunked_list = split_into_chunks(my_list, 3)\n",
    "print(chunked_list)\n"
   ]
  },
  {
   "cell_type": "markdown",
   "id": "85463de7-5f52-4c91-b900-ff9f86787b9b",
   "metadata": {},
   "source": [
    "35. Find the second largest number in a list.\n"
   ]
  },
  {
   "cell_type": "code",
   "execution_count": 65,
   "id": "6b810fdd-688d-4cd2-9452-2a792dad95a6",
   "metadata": {},
   "outputs": [
    {
     "name": "stdout",
     "output_type": "stream",
     "text": [
      "6\n"
     ]
    }
   ],
   "source": [
    "def second_largest(lst):\n",
    "    unique_numbers = list(set(lst))\n",
    "    unique_numbers.sort()\n",
    "    return unique_numbers[-2]\n",
    "\n",
    "my_list = [3, 1, 4, 1, 5, 9, 2, 6, 5]\n",
    "result = second_largest(my_list)\n",
    "print(result)\n"
   ]
  },
  {
   "cell_type": "markdown",
   "id": "fa3d4240-3c35-4f64-bef1-b9d545ee8030",
   "metadata": {},
   "source": [
    "36. Replace every element in a list with its square.\n"
   ]
  },
  {
   "cell_type": "code",
   "execution_count": 66,
   "id": "ebb78182-8066-4551-b4aa-ce47faae3458",
   "metadata": {},
   "outputs": [
    {
     "name": "stdout",
     "output_type": "stream",
     "text": [
      "[4, 16, 36, 64]\n"
     ]
    }
   ],
   "source": [
    "original_list = [2, 4, 6, 8]\n",
    "squared_list = [num**2 for num in original_list]\n",
    "print(squared_list)\n"
   ]
  },
  {
   "cell_type": "markdown",
   "id": "34777d58-2389-45f1-bbfb-fb4be7710731",
   "metadata": {},
   "source": [
    "37. Convert a list to a dictionary where list elements become keys and their indices become values.\n"
   ]
  },
  {
   "cell_type": "code",
   "execution_count": 67,
   "id": "7eb6e690-355e-46ab-a4c7-2c3d07be851e",
   "metadata": {},
   "outputs": [
    {
     "name": "stdout",
     "output_type": "stream",
     "text": [
      "{'apple': 0, 'banana': 1, 'orange': 2}\n"
     ]
    }
   ],
   "source": [
    "my_list = ['apple', 'banana', 'orange']\n",
    "my_dict = {value: index for index, value in enumerate(my_list)}\n",
    "print(my_dict)\n"
   ]
  },
  {
   "cell_type": "markdown",
   "id": "9dcf24f5-898f-42b5-858d-c83abced1328",
   "metadata": {},
   "source": [
    "38. Shuffle the elements of a list randomly.\n"
   ]
  },
  {
   "cell_type": "code",
   "execution_count": 68,
   "id": "8f231394-ec98-471d-a914-2d93d0e842b4",
   "metadata": {},
   "outputs": [
    {
     "name": "stdout",
     "output_type": "stream",
     "text": [
      "[5, 3, 4, 2, 1]\n"
     ]
    }
   ],
   "source": [
    "import random\n",
    "\n",
    "my_list = [1, 2, 3, 4, 5]\n",
    "random.shuffle(my_list)\n",
    "print(my_list)\n"
   ]
  },
  {
   "cell_type": "markdown",
   "id": "4ffcf4da-ce3f-424b-b80a-8d50659bbdb0",
   "metadata": {},
   "source": [
    "39. Create a list of the first 10 factorial numbers.\n"
   ]
  },
  {
   "cell_type": "code",
   "execution_count": 69,
   "id": "d9a26fe5-419d-48d7-80b5-07d56b2d17af",
   "metadata": {},
   "outputs": [
    {
     "name": "stdout",
     "output_type": "stream",
     "text": [
      "[1, 1, 2, 6, 24, 120, 720, 5040, 40320, 362880]\n"
     ]
    }
   ],
   "source": [
    "import math\n",
    "\n",
    "factorial_numbers = [math.factorial(i) for i in range(10)]\n",
    "print(factorial_numbers)\n"
   ]
  },
  {
   "cell_type": "markdown",
   "id": "d667eb32-2cd7-4dee-96e7-74571b4a24a3",
   "metadata": {},
   "source": [
    "40. Check if two lists have at least one element in common.\n"
   ]
  },
  {
   "cell_type": "code",
   "execution_count": 78,
   "id": "2a9b19e9-68c2-4fd7-ada0-525bcf5f41a7",
   "metadata": {},
   "outputs": [
    {
     "name": "stdout",
     "output_type": "stream",
     "text": [
      "True\n"
     ]
    }
   ],
   "source": [
    "def have_common_element(list1, list2):\n",
    "    return any(element in list2 for element in list1)\n",
    "\n",
    "# Example usage:\n",
    "list1 = [1, 2, 3, 4]\n",
    "list2 = [3, 4, 5, 6]\n",
    "result = have_common_element(list1, list2)\n",
    "print(result) \n"
   ]
  },
  {
   "cell_type": "markdown",
   "id": "d1a32ddd-f8cd-4823-8a16-3d6c55714455",
   "metadata": {},
   "source": [
    "41. Remove all elements from a list:\n"
   ]
  },
  {
   "cell_type": "code",
   "execution_count": 77,
   "id": "3e6e4e10-efcc-4510-8982-302bcba7beb9",
   "metadata": {},
   "outputs": [
    {
     "name": "stdout",
     "output_type": "stream",
     "text": [
      "[]\n"
     ]
    }
   ],
   "source": [
    "def remove_all_elements(my_list):\n",
    "    my_list.clear()\n",
    "\n",
    "# Example usage:\n",
    "my_list = [1, 2, 3, 4]\n",
    "remove_all_elements(my_list)\n",
    "print(my_list)\n"
   ]
  },
  {
   "cell_type": "markdown",
   "id": "19f5828b-a879-4c0a-bd6b-68869adbabc0",
   "metadata": {},
   "source": [
    "42. Replace negative numbers in a list with 0:\n"
   ]
  },
  {
   "cell_type": "code",
   "execution_count": 76,
   "id": "5f1e3b8b-5305-4938-96b7-81de1fc9ea54",
   "metadata": {},
   "outputs": [
    {
     "name": "stdout",
     "output_type": "stream",
     "text": [
      "[1, 0, 3, 0]\n"
     ]
    }
   ],
   "source": [
    "def replace_negatives_with_zero(my_list):\n",
    "    my_list = [max(0, x) for x in my_list]\n",
    "    return my_list\n",
    "\n",
    "# Example usage:\n",
    "my_list = [1, -2, 3, -4]\n",
    "result = replace_negatives_with_zero(my_list)\n",
    "print(result) \n"
   ]
  },
  {
   "cell_type": "markdown",
   "id": "d4b3cb78-effb-402a-865f-fdb3ad4e4e1d",
   "metadata": {},
   "source": [
    "43. Convert a string into a list of words:\n"
   ]
  },
  {
   "cell_type": "code",
   "execution_count": 75,
   "id": "476d02c5-3735-4610-9f19-f346fa00e43f",
   "metadata": {},
   "outputs": [
    {
     "name": "stdout",
     "output_type": "stream",
     "text": [
      "['Hello', 'World']\n"
     ]
    }
   ],
   "source": [
    "def string_to_word_list(my_string):\n",
    "    return my_string.split()\n",
    "\n",
    "# Example usage:\n",
    "my_string = \"Hello World\"\n",
    "result = string_to_word_list(my_string)\n",
    "print(result) \n"
   ]
  },
  {
   "cell_type": "markdown",
   "id": "dfded416-f5bc-467e-a0e5-5967da181d2a",
   "metadata": {},
   "source": [
    "45. Create a list of the first n powers of 2.\n"
   ]
  },
  {
   "cell_type": "code",
   "execution_count": 79,
   "id": "fc299bb8-97af-4df1-a296-f5270eb82b1c",
   "metadata": {},
   "outputs": [
    {
     "name": "stdout",
     "output_type": "stream",
     "text": [
      "[1, 2, 4, 8, 16]\n"
     ]
    }
   ],
   "source": [
    "def powers_of_two(n):\n",
    "    return [2**i for i in range(n)]\n",
    "\n",
    "# Example usage:\n",
    "n = 5\n",
    "result = powers_of_two(n)\n",
    "print(result)\n"
   ]
  },
  {
   "cell_type": "markdown",
   "id": "06de1510-90e1-41a6-8070-8f2717e6bbdc",
   "metadata": {},
   "source": [
    "46. Find the longest string in a list of strings.\n"
   ]
  },
  {
   "cell_type": "code",
   "execution_count": 80,
   "id": "e30e4c9c-9d1d-4766-8646-6a25952a8046",
   "metadata": {},
   "outputs": [
    {
     "name": "stdout",
     "output_type": "stream",
     "text": [
      "strawberry\n"
     ]
    }
   ],
   "source": [
    "def longest_string(strings):\n",
    "    return max(strings, key=len)\n",
    "\n",
    "# Example usage:\n",
    "string_list = [\"apple\", \"banana\", \"kiwi\", \"strawberry\"]\n",
    "result = longest_string(string_list)\n",
    "print(result)\n"
   ]
  },
  {
   "cell_type": "markdown",
   "id": "5d60a27e-edb4-4c5c-a4b7-d3d39e161b7c",
   "metadata": {},
   "source": [
    "47. Find the shortest string in a list of strings.\n"
   ]
  },
  {
   "cell_type": "code",
   "execution_count": 81,
   "id": "10d2894e-c49c-4eea-8e84-872c3b144e4e",
   "metadata": {},
   "outputs": [
    {
     "name": "stdout",
     "output_type": "stream",
     "text": [
      "kiwi\n"
     ]
    }
   ],
   "source": [
    "def shortest_string(strings):\n",
    "    return min(strings, key=len)\n",
    "\n",
    "# Example usage:\n",
    "string_list = [\"apple\", \"banana\", \"kiwi\", \"strawberry\"]\n",
    "result = shortest_string(string_list)\n",
    "print(result)\n"
   ]
  },
  {
   "cell_type": "markdown",
   "id": "0a0ce6a8-c326-4597-b777-4652ae0ac1e8",
   "metadata": {},
   "source": [
    "48. Create a list of the first n triangular numbers.\n"
   ]
  },
  {
   "cell_type": "code",
   "execution_count": 82,
   "id": "9ca41e2c-b11f-4b16-8aba-0c5e70c6296c",
   "metadata": {},
   "outputs": [
    {
     "name": "stdout",
     "output_type": "stream",
     "text": [
      "[0, 1, 3, 6, 10]\n"
     ]
    }
   ],
   "source": [
    "def triangular_numbers(n):\n",
    "    return [i * (i + 1) // 2 for i in range(n)]\n",
    "\n",
    "# Example usage:\n",
    "n = 5\n",
    "result = triangular_numbers(n)\n",
    "print(result)\n"
   ]
  },
  {
   "cell_type": "markdown",
   "id": "615f481f-98a8-41de-b46f-f6a148b39baf",
   "metadata": {},
   "source": [
    "49. Check if a list contains another list as a subsequence.\n"
   ]
  },
  {
   "cell_type": "code",
   "execution_count": 83,
   "id": "53bcfb01-48a2-49dd-aa5c-49c89ae862fb",
   "metadata": {},
   "outputs": [
    {
     "name": "stdout",
     "output_type": "stream",
     "text": [
      "True\n"
     ]
    }
   ],
   "source": [
    "def is_subsequence(subseq, seq):\n",
    "    iter_seq = iter(seq)\n",
    "    return all(item in iter_seq for item in subseq)\n",
    "\n",
    "# Example usage:\n",
    "list1 = [1, 2, 3, 4, 5]\n",
    "list2 = [2, 4]\n",
    "result = is_subsequence(list2, list1)\n",
    "print(result)\n"
   ]
  },
  {
   "cell_type": "markdown",
   "id": "48f173a1-4121-4cad-a633-ee39d66171a9",
   "metadata": {},
   "source": [
    "50. Swap two elements in a list by their indices.\n"
   ]
  },
  {
   "cell_type": "code",
   "execution_count": 84,
   "id": "cd2b2bbb-fe98-47a2-a151-1ee6ed90e405",
   "metadata": {},
   "outputs": [
    {
     "name": "stdout",
     "output_type": "stream",
     "text": [
      "[10, 40, 30, 20, 50]\n"
     ]
    }
   ],
   "source": [
    "def swap_elements(lst, idx1, idx2):\n",
    "    lst[idx1], lst[idx2] = lst[idx2], lst[idx1]\n",
    "\n",
    "# Example usage:\n",
    "my_list = [10, 20, 30, 40, 50]\n",
    "swap_elements(my_list, 1, 3)\n",
    "print(my_list)\n"
   ]
  },
  {
   "cell_type": "markdown",
   "id": "7f94f9fb-54fc-4ef6-8d33-b2441fa2f42c",
   "metadata": {},
   "source": [
    "-------------------------------------------------------------------------------------------------------------"
   ]
  },
  {
   "cell_type": "markdown",
   "id": "4320c25b-c399-4bab-9841-d597998841f1",
   "metadata": {},
   "source": [
    "Tuple Based Practice Problem :"
   ]
  },
  {
   "cell_type": "markdown",
   "id": "5f8d05bb-bd53-401b-80be-4a77ca8054bb",
   "metadata": {},
   "source": [
    "1. Create a tuple with integers from 1 to 5."
   ]
  },
  {
   "cell_type": "code",
   "execution_count": 7,
   "id": "04d63e73-f572-4dcf-94d8-fde8f6bd05e2",
   "metadata": {},
   "outputs": [
    {
     "name": "stdout",
     "output_type": "stream",
     "text": [
      "(1, 2, 3, 4, 5)\n"
     ]
    }
   ],
   "source": [
    "a = (1,2,3,4,5)\n",
    "print(a)"
   ]
  },
  {
   "cell_type": "markdown",
   "id": "82aee77d-c844-4055-8d24-32d15b9871c9",
   "metadata": {},
   "source": [
    "2. Access the third element of a tuple."
   ]
  },
  {
   "cell_type": "code",
   "execution_count": 10,
   "id": "fb9c9d38-198d-49ae-a8e2-e11c48a4db56",
   "metadata": {},
   "outputs": [
    {
     "data": {
      "text/plain": [
       "3"
      ]
     },
     "execution_count": 10,
     "metadata": {},
     "output_type": "execute_result"
    }
   ],
   "source": [
    "a[2]"
   ]
  },
  {
   "cell_type": "markdown",
   "id": "0d42c403-f76d-4745-8796-11ef434e6eb3",
   "metadata": {},
   "source": [
    "3. Find the length of a tuple without using the `len()` function."
   ]
  },
  {
   "cell_type": "code",
   "execution_count": 13,
   "id": "f8c22c8b-1b27-4399-9831-e700a31655d4",
   "metadata": {},
   "outputs": [
    {
     "name": "stdout",
     "output_type": "stream",
     "text": [
      "Length of the tuple: 5\n"
     ]
    }
   ],
   "source": [
    "tuple_example = (1, 2, 3, 4, 5)\n",
    "\n",
    "# Initialize a counter variable\n",
    "length = 0\n",
    "\n",
    "# Iterate through the tuple elements\n",
    "for _ in tuple_example:\n",
    "    length += 1\n",
    "\n",
    "# Print the length\n",
    "print(\"Length of the tuple:\", length)\n"
   ]
  },
  {
   "cell_type": "markdown",
   "id": "ac41535d-313d-4e7e-aebd-18e8aa46cea9",
   "metadata": {},
   "source": [
    "4. Count the occurrences of an element in a tuple."
   ]
  },
  {
   "cell_type": "code",
   "execution_count": 15,
   "id": "0c73ba11-dffd-4fff-a51a-dc1b3782c514",
   "metadata": {},
   "outputs": [
    {
     "data": {
      "text/plain": [
       "4"
      ]
     },
     "execution_count": 15,
     "metadata": {},
     "output_type": "execute_result"
    }
   ],
   "source": [
    "a = (1, 2, 3, 4, 2, 2, 5, 6, 2)\n",
    "a.count(2)"
   ]
  },
  {
   "cell_type": "markdown",
   "id": "38c8f9de-4b90-4af4-a56a-3ceecc5bcdb9",
   "metadata": {},
   "source": [
    "5. Find the index of the first occurrence of an element in a tuple."
   ]
  },
  {
   "cell_type": "code",
   "execution_count": 17,
   "id": "89826b50-c8f4-4008-b017-e6a2c91d4652",
   "metadata": {},
   "outputs": [
    {
     "data": {
      "text/plain": [
       "1"
      ]
     },
     "execution_count": 17,
     "metadata": {},
     "output_type": "execute_result"
    }
   ],
   "source": [
    "a = (1, 2, 3, 4, 2, 2, 5, 6, 2)\n",
    "a.index(2)"
   ]
  },
  {
   "cell_type": "markdown",
   "id": "f081cff8-ca82-4a83-bfee-0c9ef09b169a",
   "metadata": {},
   "source": [
    "6. Check if an element exists in a tuple."
   ]
  },
  {
   "cell_type": "code",
   "execution_count": 20,
   "id": "fe18b920-ad85-4269-bf6c-9559eca534b4",
   "metadata": {},
   "outputs": [
    {
     "name": "stdout",
     "output_type": "stream",
     "text": [
      "exist in tuple\n"
     ]
    }
   ],
   "source": [
    "a = (1, 2, 3, 4, 2, 2, 5, 6, 2)\n",
    "\n",
    "if 5 in a:\n",
    "    print('exist in tuple')\n",
    "else:\n",
    "    print('does not exist in tuple')"
   ]
  },
  {
   "cell_type": "markdown",
   "id": "361ab6ca-3e0d-4f28-8ac9-cd04d2dc4f4b",
   "metadata": {},
   "source": [
    "7. Convert a tuple to a list."
   ]
  },
  {
   "cell_type": "code",
   "execution_count": 23,
   "id": "59183df5-6619-40fd-a583-c7d5b85e0da0",
   "metadata": {},
   "outputs": [
    {
     "data": {
      "text/plain": [
       "[1, 2, 3, 4, 2, 2, 5, 6, 2]"
      ]
     },
     "execution_count": 23,
     "metadata": {},
     "output_type": "execute_result"
    }
   ],
   "source": [
    "a = (1, 2, 3, 4, 2, 2, 5, 6, 2)\n",
    "list(a)"
   ]
  },
  {
   "cell_type": "markdown",
   "id": "1ceebd1f-d839-4cf8-a567-0d45cb60e495",
   "metadata": {},
   "source": [
    "8. Convert a list to a tuple."
   ]
  },
  {
   "cell_type": "code",
   "execution_count": 24,
   "id": "21cc524e-d98e-4650-a32d-f2819ecd3374",
   "metadata": {},
   "outputs": [
    {
     "data": {
      "text/plain": [
       "(1, 2, 3, 4, 2, 2, 5, 6, 2)"
      ]
     },
     "execution_count": 24,
     "metadata": {},
     "output_type": "execute_result"
    }
   ],
   "source": [
    "tuple(a)"
   ]
  },
  {
   "cell_type": "markdown",
   "id": "b93c48d2-2933-43f8-a647-fd575b706bbf",
   "metadata": {},
   "source": [
    "9. Unpack the elements of a tuple into variables."
   ]
  },
  {
   "cell_type": "code",
   "execution_count": 39,
   "id": "09f97989-ba2b-452e-858c-67645fbc99c9",
   "metadata": {},
   "outputs": [
    {
     "name": "stdout",
     "output_type": "stream",
     "text": [
      "1\n",
      "2\n",
      "3\n"
     ]
    }
   ],
   "source": [
    "my_tuple = (1, 2, 3)\n",
    "\n",
    "var1, var2, var3 = my_tuple\n",
    "\n",
    "print(var1)\n",
    "print(var2)\n",
    "print(var3)\n"
   ]
  },
  {
   "cell_type": "markdown",
   "id": "948df80b-9860-4116-b251-581d1defe9b2",
   "metadata": {},
   "source": [
    "10. Create a tuple of even numbers from 1 to 10."
   ]
  },
  {
   "cell_type": "code",
   "execution_count": 35,
   "id": "49ea69e3-a1c4-4225-b546-72abe9a234ab",
   "metadata": {},
   "outputs": [
    {
     "name": "stdout",
     "output_type": "stream",
     "text": [
      "(2, 4, 6, 8, 10)\n"
     ]
    }
   ],
   "source": [
    "even_numbers = tuple(num for num in range(2, 11, 2))\n",
    "print(even_numbers)\n"
   ]
  },
  {
   "cell_type": "markdown",
   "id": "2094f0a7-12f3-41ad-b7dd-518c1e60565a",
   "metadata": {},
   "source": [
    "11. Create a tuple of odd numbers from 1 to 10."
   ]
  },
  {
   "cell_type": "code",
   "execution_count": 41,
   "id": "0b84865d-59f2-4beb-b7d9-189cc55121e2",
   "metadata": {},
   "outputs": [
    {
     "name": "stdout",
     "output_type": "stream",
     "text": [
      "(1, 3, 5, 7, 9)\n"
     ]
    }
   ],
   "source": [
    "odd_number = tuple(num for num in range(1,11,2))\n",
    "print(odd_number)"
   ]
  },
  {
   "cell_type": "code",
   "execution_count": 52,
   "id": "8d23887a-14cc-4204-a3aa-ecacd9974b9b",
   "metadata": {},
   "outputs": [
    {
     "name": "stdout",
     "output_type": "stream",
     "text": [
      "(1, 2, 3, 'a', 'b', 'c')\n"
     ]
    }
   ],
   "source": [
    "a = (1, 2, 3)\n",
    "b = ('a', 'b', 'c')\n",
    "c = a + b\n",
    "print(c)"
   ]
  },
  {
   "cell_type": "markdown",
   "id": "ed21986b-16d7-4246-9c50-52ad7de77189",
   "metadata": {},
   "source": [
    "13. Repeat a tuple three times."
   ]
  },
  {
   "cell_type": "code",
   "execution_count": 53,
   "id": "b5e89cdf-c594-4c87-b9f6-ef24d8e7f1ce",
   "metadata": {},
   "outputs": [
    {
     "name": "stdout",
     "output_type": "stream",
     "text": [
      "(1, 2, 3, 1, 2, 3, 1, 2, 3)\n"
     ]
    }
   ],
   "source": [
    "a = (1, 2, 3)\n",
    "b = a*3\n",
    "print(b)"
   ]
  },
  {
   "cell_type": "markdown",
   "id": "faf99f2b-45e2-4165-8bce-b34a47f76e4a",
   "metadata": {},
   "source": [
    "14. Check if a tuple is empty."
   ]
  },
  {
   "cell_type": "code",
   "execution_count": 56,
   "id": "3bb8e67f-3887-4395-aec2-7db9e2820d9a",
   "metadata": {},
   "outputs": [
    {
     "name": "stdout",
     "output_type": "stream",
     "text": [
      "Tuple is empty\n"
     ]
    }
   ],
   "source": [
    "empty_tuple = ()\n",
    "if not empty_tuple:\n",
    "    print(\"Tuple is empty\")"
   ]
  },
  {
   "cell_type": "markdown",
   "id": "10f7b211-6c2a-4fd0-b9f2-b73030c746dc",
   "metadata": {},
   "source": [
    "15. Create a nested tuple."
   ]
  },
  {
   "cell_type": "code",
   "execution_count": 57,
   "id": "1cb122a3-7671-45be-8aba-c09ab46443c3",
   "metadata": {},
   "outputs": [
    {
     "name": "stdout",
     "output_type": "stream",
     "text": [
      "Nested Tuple: (1, 2, (3, 4), 5)\n"
     ]
    }
   ],
   "source": [
    "nested_tuple = (1, 2, (3, 4), 5)\n",
    "print(\"Nested Tuple:\", nested_tuple)"
   ]
  },
  {
   "cell_type": "markdown",
   "id": "9e386912-ed79-4db1-9b79-a0a9d7ccb8bb",
   "metadata": {},
   "source": [
    "16. Access the first element of a nested tuple."
   ]
  },
  {
   "cell_type": "code",
   "execution_count": 59,
   "id": "e12820a6-5890-4616-9dac-cf7677dbf0e7",
   "metadata": {},
   "outputs": [
    {
     "name": "stdout",
     "output_type": "stream",
     "text": [
      "First element of nested tuple: 1\n"
     ]
    }
   ],
   "source": [
    "a = (1, 2, (3, 4), 5)\n",
    "a[0]\n",
    "print(\"First element of nested tuple:\", first_element)"
   ]
  },
  {
   "cell_type": "markdown",
   "id": "e9f4fdf8-ed9d-4436-b5db-a48e7dc9751c",
   "metadata": {},
   "source": [
    "17. Create a tuple with a single element."
   ]
  },
  {
   "cell_type": "code",
   "execution_count": 60,
   "id": "1767bab5-2271-4318-a078-61f67f27694f",
   "metadata": {},
   "outputs": [
    {
     "name": "stdout",
     "output_type": "stream",
     "text": [
      "(40,)\n"
     ]
    }
   ],
   "source": [
    "a = (40,)\n",
    "print(a)"
   ]
  },
  {
   "cell_type": "markdown",
   "id": "79fb5f9f-30d2-482b-9c85-ce524d221fe5",
   "metadata": {},
   "source": [
    "18. Compare two tuples."
   ]
  },
  {
   "cell_type": "code",
   "execution_count": 61,
   "id": "3b99162e-de53-4ea2-b40f-fcdbbafeaf4f",
   "metadata": {},
   "outputs": [
    {
     "name": "stdout",
     "output_type": "stream",
     "text": [
      "tuple is same\n"
     ]
    }
   ],
   "source": [
    "tuple1 = (1, 2, 3)\n",
    "tuple2 = (1, 2, 3)\n",
    "\n",
    "if tuple1 == tuple2:\n",
    "    print('tuple is same')\n",
    "else:\n",
    "    print('tuple is not same')"
   ]
  },
  {
   "cell_type": "markdown",
   "id": "f804e695-9ece-4054-a36e-86375dca8cf7",
   "metadata": {},
   "source": [
    " 19. Delete a tuple."
   ]
  },
  {
   "cell_type": "code",
   "execution_count": 65,
   "id": "dec53a32-031a-440c-aa74-a50ed4791b11",
   "metadata": {},
   "outputs": [],
   "source": [
    "tuple1 = (1, 2, 3)\n",
    "del tuple1"
   ]
  },
  {
   "cell_type": "markdown",
   "id": "6645750c-b559-4d20-94d0-ace8b9661c93",
   "metadata": {},
   "source": [
    "20. Slice a tuple."
   ]
  },
  {
   "cell_type": "code",
   "execution_count": 66,
   "id": "679328b5-fbba-4a96-b578-4e098ebc2a46",
   "metadata": {},
   "outputs": [
    {
     "name": "stdout",
     "output_type": "stream",
     "text": [
      "Sliced Tuple: (2, 3, 4)\n"
     ]
    }
   ],
   "source": [
    "original_tuple = (1, 2, 3, 4, 5)\n",
    "sliced_tuple = original_tuple[1:4]\n",
    "print(\"Sliced Tuple:\", sliced_tuple)"
   ]
  },
  {
   "cell_type": "markdown",
   "id": "bab8f1fe-2bb9-40ca-85a8-0e17d097925b",
   "metadata": {},
   "source": [
    "21: Find the maximum value in a tuple."
   ]
  },
  {
   "cell_type": "code",
   "execution_count": 1,
   "id": "65c543b4-7331-42c9-9038-f1cce2fd8e43",
   "metadata": {},
   "outputs": [
    {
     "name": "stdout",
     "output_type": "stream",
     "text": [
      "Maximum value in the tuple: 10\n"
     ]
    }
   ],
   "source": [
    "a = (3, 8, 2, 10, 5)\n",
    "max_value = max(a)\n",
    "print(\"Maximum value in the tuple:\", max_value)"
   ]
  },
  {
   "cell_type": "markdown",
   "id": "f92a0bf7-924a-48d7-a3cf-ec7eca06d4f6",
   "metadata": {},
   "source": [
    "22: Find the minimum value in a tuple."
   ]
  },
  {
   "cell_type": "code",
   "execution_count": 2,
   "id": "f1d9538d-5c24-4a56-9782-bd9a64101fbf",
   "metadata": {},
   "outputs": [
    {
     "name": "stdout",
     "output_type": "stream",
     "text": [
      "min value in tuple is 1\n"
     ]
    }
   ],
   "source": [
    "a = (1,3,2,4,5,6)\n",
    "\n",
    "min_value = min(a)\n",
    "print('min value in tuple is', min_value)"
   ]
  },
  {
   "cell_type": "markdown",
   "id": "78ce7e1e-c6b4-4c58-b7ad-d175f700e774",
   "metadata": {},
   "source": [
    "23: Convert a string to a tuple of characters."
   ]
  },
  {
   "cell_type": "code",
   "execution_count": 3,
   "id": "a66ac5dc-ba9b-4db3-af86-f243267c24d7",
   "metadata": {},
   "outputs": [
    {
     "name": "stdout",
     "output_type": "stream",
     "text": [
      "('h', 'e', 'l', 'l', 'o')\n"
     ]
    }
   ],
   "source": [
    "a = 'hello'\n",
    "b = tuple(a)\n",
    "print(b)"
   ]
  },
  {
   "cell_type": "markdown",
   "id": "0ee8163b-ced0-4b65-a032-fc86f0417b47",
   "metadata": {},
   "source": [
    "24: Convert a tuple of characters to a string."
   ]
  },
  {
   "cell_type": "code",
   "execution_count": 6,
   "id": "4f565979-8516-4ebc-a2a4-013f598c26b3",
   "metadata": {},
   "outputs": [
    {
     "name": "stdout",
     "output_type": "stream",
     "text": [
      "hello\n"
     ]
    }
   ],
   "source": [
    "char = ('h', 'e', 'l', 'l', 'o')\n",
    "string = ''.join(char)\n",
    "print(string)"
   ]
  },
  {
   "cell_type": "markdown",
   "id": "520221b5-1989-4998-8f98-0c49c0e0d999",
   "metadata": {},
   "source": [
    "25: Create a tuple from multiple data types."
   ]
  },
  {
   "cell_type": "code",
   "execution_count": 7,
   "id": "6c7d1666-0514-4deb-a6e0-fcc1a3670676",
   "metadata": {},
   "outputs": [
    {
     "name": "stdout",
     "output_type": "stream",
     "text": [
      "Tuple with multiple data types: (1, 'hello', 3.14, True)\n"
     ]
    }
   ],
   "source": [
    "mixed_tuple = (1, \"hello\", 3.14, True)\n",
    "print(\"Tuple with multiple data types:\", mixed_tuple)"
   ]
  },
  {
   "cell_type": "markdown",
   "id": "278cd2dd-c555-48db-af1b-2c6008a62df6",
   "metadata": {},
   "source": [
    "26: Check if two tuples are identical."
   ]
  },
  {
   "cell_type": "code",
   "execution_count": 8,
   "id": "d730dc16-9e70-4f3a-bac4-8c9b683da455",
   "metadata": {},
   "outputs": [
    {
     "name": "stdout",
     "output_type": "stream",
     "text": [
      "tuples are identical\n"
     ]
    }
   ],
   "source": [
    "tuple1 = (1,2,3)\n",
    "tuple2 = (1,2,3)\n",
    "\n",
    "if tuple1 == tuple2:\n",
    "    print('tuples are identical')\n",
    "else:\n",
    "    print('tuples are not identical')"
   ]
  },
  {
   "cell_type": "markdown",
   "id": "42414b41-6e7d-49ab-b88b-23d1012389dc",
   "metadata": {},
   "source": [
    "27. Sort the elements of a tuple."
   ]
  },
  {
   "cell_type": "code",
   "execution_count": 9,
   "id": "70c457b5-0e3b-43a9-a3da-2d62e5aee89b",
   "metadata": {},
   "outputs": [
    {
     "name": "stdout",
     "output_type": "stream",
     "text": [
      "[1, 2, 4, 5, 6, 9]\n"
     ]
    }
   ],
   "source": [
    "a = (2,5,9,4,6,1)\n",
    "b = sorted(a)\n",
    "print(b)"
   ]
  },
  {
   "cell_type": "markdown",
   "id": "7f921479-915f-4cf1-aed3-d0912607790a",
   "metadata": {},
   "source": [
    "28. Convert a tuple of integers to a tuple of strings."
   ]
  },
  {
   "cell_type": "code",
   "execution_count": 12,
   "id": "292fcd50-2a91-40e7-86f2-0ca669e32345",
   "metadata": {},
   "outputs": [
    {
     "name": "stdout",
     "output_type": "stream",
     "text": [
      "('1', '2', '3', '4', '5')\n"
     ]
    }
   ],
   "source": [
    "int_tuple = (1, 2, 3, 4, 5)\n",
    "str_tuple = tuple(str(i) for i in int_tuple)\n",
    "print(str_tuple)"
   ]
  },
  {
   "cell_type": "markdown",
   "id": "e3f8ed93-7441-4337-be90-d21aafc1edcf",
   "metadata": {},
   "source": [
    "29. Convert a tuple of strings to a tuple of integers."
   ]
  },
  {
   "cell_type": "code",
   "execution_count": 17,
   "id": "c9b91984-1950-4bda-b9ed-b6fea800328d",
   "metadata": {},
   "outputs": [
    {
     "name": "stdout",
     "output_type": "stream",
     "text": [
      "(1, 2, 3, 4, 5)\n"
     ]
    }
   ],
   "source": [
    "str_tuple = ('1', '2', '3', '4', '5')\n",
    "int_tuple = tuple(int(i) for i in int_tuple)\n",
    "print(int_tuple)"
   ]
  },
  {
   "cell_type": "markdown",
   "id": "f4de0afb-2f07-4abf-946e-f31faeb30d54",
   "metadata": {},
   "source": [
    "30. Merge two tuples."
   ]
  },
  {
   "cell_type": "code",
   "execution_count": 18,
   "id": "6a9d5975-c101-4fa0-9e06-3f3438be7984",
   "metadata": {},
   "outputs": [
    {
     "name": "stdout",
     "output_type": "stream",
     "text": [
      "(1, 2, 3, 1, 2, 3)\n"
     ]
    }
   ],
   "source": [
    "a = (1,2,3)\n",
    "b = (1,2,3)\n",
    "merged_tuple = a + b\n",
    "print(merged_tuple)"
   ]
  },
  {
   "cell_type": "markdown",
   "id": "1ac4d014-1744-4f6c-93df-54f6cf703963",
   "metadata": {},
   "source": [
    "31. Flatten a nested tuple."
   ]
  },
  {
   "cell_type": "code",
   "execution_count": 19,
   "id": "14bf497a-06a4-4ef2-bc0c-b51805932397",
   "metadata": {},
   "outputs": [
    {
     "name": "stdout",
     "output_type": "stream",
     "text": [
      "(1, 2, 3, 4, 5, 6, 7, 8, 9)\n"
     ]
    }
   ],
   "source": [
    "nested_tuple = ((1, 2, 3), (4, 5, 6), (7, 8, 9))\n",
    "flattened_tuple = tuple(item for subtuple in nested_tuple for item in subtuple)\n",
    "print(flattened_tuple)"
   ]
  },
  {
   "cell_type": "markdown",
   "id": "0f9fd5d1-66c6-4268-b834-f2177c2ae848",
   "metadata": {},
   "source": [
    "32. Create a tuple of the first 5 prime numbers."
   ]
  },
  {
   "cell_type": "code",
   "execution_count": 20,
   "id": "ae5502b2-76df-4807-94cc-267eb094dd9b",
   "metadata": {},
   "outputs": [
    {
     "name": "stdout",
     "output_type": "stream",
     "text": [
      "(2, 3, 5, 7, 11)\n"
     ]
    }
   ],
   "source": [
    "prime_number = (2, 3, 5, 7, 11)\n",
    "print(prime_number)"
   ]
  },
  {
   "cell_type": "markdown",
   "id": "bd881e13-b75b-45d0-aad2-f9a560dcefad",
   "metadata": {},
   "source": [
    "33. Check if a tuple is a palindrome:\n"
   ]
  },
  {
   "cell_type": "code",
   "execution_count": null,
   "id": "f578b7a8-efc7-48d6-b1e3-e0a688983a16",
   "metadata": {},
   "outputs": [
    {
     "name": "stdout",
     "output_type": "stream",
     "text": [
      "Is the tuple a palindrome? True\n"
     ]
    }
   ],
   "source": [
    "tuple_to_check = (1, 2, 3, 2, 1)\n",
    "is_palindrome = tuple_to_check == tuple_to_check[::-1]\n",
    "print(f\"Is the tuple a palindrome? {is_palindrome}\")"
   ]
  },
  {
   "cell_type": "markdown",
   "id": "9d1153b0-a4df-4038-b55a-05f241306d3d",
   "metadata": {},
   "source": [
    "34. Create a tuple of squares of numbers from 1 to 5:\n"
   ]
  },
  {
   "cell_type": "code",
   "execution_count": 24,
   "id": "3064418b-4744-4b24-aaac-9c4342ea953a",
   "metadata": {},
   "outputs": [
    {
     "name": "stdout",
     "output_type": "stream",
     "text": [
      "(1, 4, 9, 16, 25)\n"
     ]
    }
   ],
   "source": [
    "squares_tuple = tuple(x ** 2 for x in range(1, 6))\n",
    "print(squares_tuple)"
   ]
  },
  {
   "cell_type": "markdown",
   "id": "cec52c8b-1f97-4d0d-aa1c-255909490d8a",
   "metadata": {},
   "source": [
    "35. Filter out all even numbers from a tuple:\n"
   ]
  },
  {
   "cell_type": "code",
   "execution_count": 28,
   "id": "4571f551-8c02-49c4-b607-c3cd38d40138",
   "metadata": {},
   "outputs": [
    {
     "name": "stdout",
     "output_type": "stream",
     "text": [
      "1 3 5 7 9 "
     ]
    }
   ],
   "source": [
    "a = (1, 2, 3, 4, 5, 6, 7, 8, 9, 10)\n",
    "\n",
    "for i in a:\n",
    "    if i%2 != 0:\n",
    "        print(i, end = ' ')"
   ]
  },
  {
   "cell_type": "markdown",
   "id": "897bfaa5-011f-4dc8-9fba-5a03efeeb386",
   "metadata": {},
   "source": [
    "36. Multiply all elements in a tuple by 2:\n"
   ]
  },
  {
   "cell_type": "code",
   "execution_count": 29,
   "id": "daabe064-dfc7-4d15-85e7-8d87891a6433",
   "metadata": {},
   "outputs": [
    {
     "name": "stdout",
     "output_type": "stream",
     "text": [
      "(2, 4, 6, 8, 10, 12, 14, 16, 18, 20)\n"
     ]
    }
   ],
   "source": [
    "a = (1, 2, 3, 4, 5, 6, 7, 8, 9, 10)\n",
    "b = tuple(i*2 for i in a)\n",
    "print(b)"
   ]
  },
  {
   "cell_type": "markdown",
   "id": "4d53d0b4-42b2-408c-9016-da165a6b7d62",
   "metadata": {},
   "source": [
    "37. Create a tuple of random numbers."
   ]
  },
  {
   "cell_type": "code",
   "execution_count": 39,
   "id": "c50cf8bf-584a-4208-a340-2c9f6df3a775",
   "metadata": {},
   "outputs": [
    {
     "name": "stdout",
     "output_type": "stream",
     "text": [
      "Random Tuple: (40, 56, 4, 59, 62)\n"
     ]
    }
   ],
   "source": [
    "import random\n",
    "random_tuple = tuple(random.randint(1, 100) for _ in range(5))\n",
    "print(\"Random Tuple:\", random_tuple)"
   ]
  },
  {
   "cell_type": "markdown",
   "id": "a30fcf57-7f4f-4765-8211-8b2b214b2218",
   "metadata": {},
   "source": [
    "38. Check if a tuple is sorted."
   ]
  },
  {
   "cell_type": "code",
   "execution_count": 38,
   "id": "c4d2169b-67c0-4230-a2fb-74f0884ba4d1",
   "metadata": {},
   "outputs": [
    {
     "name": "stdout",
     "output_type": "stream",
     "text": [
      "Is Sorted: False\n"
     ]
    }
   ],
   "source": [
    "is_sorted = all(random_tuple[i] <= random_tuple[i + 1] for i in range(len(random_tuple) - 1))\n",
    "print(\"Is Sorted:\", is_sorted)"
   ]
  },
  {
   "cell_type": "markdown",
   "id": "48cfdb35-2377-4c0b-acea-e12161583232",
   "metadata": {},
   "source": [
    "39. Rotate a tuple to the left by `n` positions."
   ]
  },
  {
   "cell_type": "code",
   "execution_count": 37,
   "id": "b1e9e683-7f1f-4af3-ade4-ed79e77a151d",
   "metadata": {},
   "outputs": [
    {
     "name": "stdout",
     "output_type": "stream",
     "text": [
      "Left Rotated Tuple: (47, 22, 97, 91, 38)\n"
     ]
    }
   ],
   "source": [
    "n = 2\n",
    "left_rotated_tuple = random_tuple[n:] + random_tuple[:n]\n",
    "print(\"Left Rotated Tuple:\", left_rotated_tuple)"
   ]
  },
  {
   "cell_type": "markdown",
   "id": "b544d3ce-935c-4371-8f26-e6ab65287fa2",
   "metadata": {},
   "source": [
    "40. Rotate a tuple to the right by `n` positions."
   ]
  },
  {
   "cell_type": "code",
   "execution_count": 36,
   "id": "f1a4c1e0-d992-4ba3-b2bc-5dc9ce848c86",
   "metadata": {},
   "outputs": [
    {
     "name": "stdout",
     "output_type": "stream",
     "text": [
      "Right Rotated Tuple: (22, 97, 91, 38, 47)\n"
     ]
    }
   ],
   "source": [
    "right_rotated_tuple = random_tuple[-n:] + random_tuple[:-n]\n",
    "print(\"Right Rotated Tuple:\", right_rotated_tuple)"
   ]
  },
  {
   "cell_type": "markdown",
   "id": "48a03b95-9e79-4485-ae49-24a786851a53",
   "metadata": {},
   "source": [
    "41. Create a tuple of the first 5 Fibonacci numbers."
   ]
  },
  {
   "cell_type": "code",
   "execution_count": 40,
   "id": "a1ba63ab-1784-4f25-89ed-acfb8092b056",
   "metadata": {},
   "outputs": [
    {
     "name": "stdout",
     "output_type": "stream",
     "text": [
      "Fibonacci Tuple: (0, 1, 1, 2, 3)\n"
     ]
    }
   ],
   "source": [
    "fibonacci_tuple = (0, 1, 1, 2, 3)\n",
    "print(\"Fibonacci Tuple:\", fibonacci_tuple)"
   ]
  },
  {
   "cell_type": "code",
   "execution_count": 45,
   "id": "6a3a81be-4b0d-4bc5-8533-ba4150e60b23",
   "metadata": {},
   "outputs": [
    {
     "name": "stdin",
     "output_type": "stream",
     "text": [
      "Enter elements separated by spaces:  1 2 3 4 5 6\n"
     ]
    },
    {
     "name": "stdout",
     "output_type": "stream",
     "text": [
      "User Input Tuple: (1, 2, 3, 4, 5, 6)\n"
     ]
    }
   ],
   "source": [
    "user_input_tuple = tuple(map(int, input(\"Enter elements separated by spaces: \").split()))\n",
    "print(\"User Input Tuple:\", user_input_tuple)"
   ]
  },
  {
   "cell_type": "markdown",
   "id": "40ca0857-39f7-464c-ac30-3e5b2f828d5f",
   "metadata": {},
   "source": [
    "43. Swap two elements in a tuple."
   ]
  },
  {
   "cell_type": "code",
   "execution_count": 47,
   "id": "3372fcc6-62bf-473c-ac5b-753b29eb0f2f",
   "metadata": {},
   "outputs": [
    {
     "name": "stdout",
     "output_type": "stream",
     "text": [
      "Swapped Tuple: (1, 4, 3, 2, 5, 6)\n"
     ]
    }
   ],
   "source": [
    "index1, index2 = 1, 3\n",
    "swapped_tuple = list(user_input_tuple)\n",
    "swapped_tuple[index1], swapped_tuple[index2] = swapped_tuple[index2], swapped_tuple[index1]\n",
    "swapped_tuple = tuple(swapped_tuple)\n",
    "print(\"Swapped Tuple:\", swapped_tuple)"
   ]
  },
  {
   "cell_type": "markdown",
   "id": "4e741f54-895f-475e-9256-92ea2c7bb5b5",
   "metadata": {},
   "source": [
    "44. Reverse the elements of a tuple:\n"
   ]
  },
  {
   "cell_type": "code",
   "execution_count": 48,
   "id": "1be4860f-2034-4469-9229-764f20db9456",
   "metadata": {},
   "outputs": [
    {
     "name": "stdout",
     "output_type": "stream",
     "text": [
      "(6, 5, 4, 3, 2, 1)\n"
     ]
    }
   ],
   "source": [
    "a = (1,2,3,4,5,6)\n",
    "b = a[::-1]\n",
    "print(b)"
   ]
  },
  {
   "cell_type": "markdown",
   "id": "898b8448-1652-4448-89c0-7fe4af77e3f7",
   "metadata": {},
   "source": [
    "45. Create a tuple of the first n powers of 2:\n"
   ]
  },
  {
   "cell_type": "code",
   "execution_count": 49,
   "id": "897968aa-1b7b-466b-8b0e-6df86839e485",
   "metadata": {},
   "outputs": [
    {
     "name": "stdout",
     "output_type": "stream",
     "text": [
      "(1, 2, 4, 8, 16)\n"
     ]
    }
   ],
   "source": [
    "n = 5\n",
    "powers_of_2_tuple = tuple(2 ** i for i in range(n))\n",
    "print(powers_of_2_tuple)\n"
   ]
  },
  {
   "cell_type": "markdown",
   "id": "b326316c-f61a-4cb1-a696-d431da084fde",
   "metadata": {},
   "source": [
    "46. Find the longest string in a tuple of strings:\n"
   ]
  },
  {
   "cell_type": "code",
   "execution_count": 50,
   "id": "e63f8607-91d9-4f18-b521-43fe2461daf7",
   "metadata": {},
   "outputs": [
    {
     "name": "stdout",
     "output_type": "stream",
     "text": [
      "strawberry\n"
     ]
    }
   ],
   "source": [
    "string_tuple = (\"apple\", \"banana\", \"kiwi\", \"strawberry\")\n",
    "longest_string = max(string_tuple, key=len)\n",
    "print(longest_string)\n"
   ]
  },
  {
   "cell_type": "markdown",
   "id": "d6eb0bc1-149b-40b8-8b3e-e6d0405b53ab",
   "metadata": {},
   "source": [
    "47. Find the shortest string in a tuple of strings:\n"
   ]
  },
  {
   "cell_type": "code",
   "execution_count": 51,
   "id": "0f4845dc-081b-47d0-9f79-9afd5c331fd9",
   "metadata": {},
   "outputs": [
    {
     "name": "stdout",
     "output_type": "stream",
     "text": [
      "kiwi\n"
     ]
    }
   ],
   "source": [
    "string_tuple = (\"apple\", \"banana\", \"kiwi\", \"strawberry\")\n",
    "shortest_string = min(string_tuple, key=len)\n",
    "print(shortest_string)\n"
   ]
  },
  {
   "cell_type": "markdown",
   "id": "bb923bd9-8aac-427a-904a-37f30bf4fbf1",
   "metadata": {},
   "source": [
    "48. Create a tuple of the first n triangular numbers:\n"
   ]
  },
  {
   "cell_type": "code",
   "execution_count": 52,
   "id": "dac64680-7c12-46e1-82f0-a9ffa4ebfd95",
   "metadata": {},
   "outputs": [
    {
     "name": "stdout",
     "output_type": "stream",
     "text": [
      "(0, 1, 3, 6, 10)\n"
     ]
    }
   ],
   "source": [
    "n = 5\n",
    "triangular_numbers_tuple = tuple((i * (i + 1)) // 2 for i in range(n))\n",
    "print(triangular_numbers_tuple)\n"
   ]
  },
  {
   "cell_type": "markdown",
   "id": "42618101-24c1-4662-a085-415b9e657793",
   "metadata": {},
   "source": [
    "49. Check if a tuple contains another tuple as a subsequence:\n"
   ]
  },
  {
   "cell_type": "code",
   "execution_count": 53,
   "id": "5aa0a8ca-62da-4abe-b54a-4be8f3c19190",
   "metadata": {},
   "outputs": [
    {
     "name": "stdout",
     "output_type": "stream",
     "text": [
      "True\n"
     ]
    }
   ],
   "source": [
    "main_tuple = (1, 2, (3, 4), 5, 6)\n",
    "sub_tuple = (3, 4)\n",
    "contains_subsequence = sub_tuple in main_tuple\n",
    "print(contains_subsequence)\n"
   ]
  },
  {
   "cell_type": "markdown",
   "id": "1a39f663-ab64-4182-989e-dcf86891aa56",
   "metadata": {},
   "source": [
    "50. Create a tuple of alternating 1s and 0s of length n:\n"
   ]
  },
  {
   "cell_type": "code",
   "execution_count": 54,
   "id": "83f15cec-4b16-4738-b462-8df2dca74168",
   "metadata": {},
   "outputs": [
    {
     "name": "stdout",
     "output_type": "stream",
     "text": [
      "(0, 1, 0, 1, 0, 1)\n"
     ]
    }
   ],
   "source": [
    "n = 6\n",
    "alternating_tuple = tuple((i % 2) for i in range(n))\n",
    "print(alternating_tuple)\n"
   ]
  },
  {
   "cell_type": "markdown",
   "id": "975afaed-7a75-40b3-b347-baf4327c565a",
   "metadata": {},
   "source": [
    "Set Based Practice Problem :"
   ]
  },
  {
   "cell_type": "markdown",
   "id": "40e44287-1304-4dc7-9d9b-c77d13961f2a",
   "metadata": {},
   "source": [
    "1. Create a set with integers from 1 to 5."
   ]
  },
  {
   "cell_type": "code",
   "execution_count": 55,
   "id": "8e20039f-aef0-456a-9a47-102d4a802c86",
   "metadata": {},
   "outputs": [
    {
     "name": "stdout",
     "output_type": "stream",
     "text": [
      "{1, 2, 3, 4, 5}\n"
     ]
    }
   ],
   "source": [
    "a = {1,2,3,4,5}\n",
    "print(a)"
   ]
  },
  {
   "cell_type": "markdown",
   "id": "58c3a431-78eb-44fc-9605-db7377886eed",
   "metadata": {},
   "source": [
    "2. Add an element to a set."
   ]
  },
  {
   "cell_type": "code",
   "execution_count": 57,
   "id": "3f7f6269-38d4-49c2-bbf2-495be097829b",
   "metadata": {},
   "outputs": [
    {
     "name": "stdout",
     "output_type": "stream",
     "text": [
      "{1, 2, 3, 4, 5, 6}\n"
     ]
    }
   ],
   "source": [
    "a.add(6)\n",
    "print(a)"
   ]
  },
  {
   "cell_type": "markdown",
   "id": "aa8f1f32-7fd2-420b-8b38-64f622e7892f",
   "metadata": {},
   "source": [
    " 3. Remove an element from a set."
   ]
  },
  {
   "cell_type": "code",
   "execution_count": 58,
   "id": "c1300173-702a-4888-9876-0180bf8b36b8",
   "metadata": {},
   "outputs": [
    {
     "name": "stdout",
     "output_type": "stream",
     "text": [
      "{1, 3, 4, 5, 6}\n"
     ]
    }
   ],
   "source": [
    "a.remove(2)\n",
    "print(a)"
   ]
  },
  {
   "cell_type": "markdown",
   "id": "a65fb257-4b47-4f2e-9551-52cb968d978a",
   "metadata": {},
   "source": [
    "4. Check if an element exists in a set."
   ]
  },
  {
   "cell_type": "code",
   "execution_count": 60,
   "id": "592c77fa-a2b2-4712-adec-1524380eefef",
   "metadata": {},
   "outputs": [
    {
     "name": "stdout",
     "output_type": "stream",
     "text": [
      "yes it is present\n"
     ]
    }
   ],
   "source": [
    "a = {1,2,3,4,5}\n",
    "b = 2\n",
    "if b in a:\n",
    "    print('yes it is present')\n",
    "else:\n",
    "    print('no it does not')"
   ]
  },
  {
   "cell_type": "markdown",
   "id": "a884565d-401a-40f5-b0e3-0a0aaac4d961",
   "metadata": {},
   "source": [
    "5. Find the length of a set without using the `len()` function."
   ]
  },
  {
   "cell_type": "code",
   "execution_count": null,
   "id": "a4e400eb-4031-4969-b318-b6520a6a5ae0",
   "metadata": {},
   "outputs": [
    {
     "name": "stdout",
     "output_type": "stream",
     "text": [
      "Length of the set: 5\n"
     ]
    }
   ],
   "source": [
    "a = {1,2,3,4,5}\n",
    "\n",
    "length = 0\n",
    "\n",
    "# Iterate through the tuple elements\n",
    "for _ in a:\n",
    "    length += 1\n",
    "\n",
    "# Print the length\n",
    "print(\"Length of the set:\", length)\n"
   ]
  },
  {
   "cell_type": "markdown",
   "id": "fa1200c2-599f-47bc-950c-2694e2153034",
   "metadata": {},
   "source": [
    "6. Clear all elements from a set."
   ]
  },
  {
   "cell_type": "code",
   "execution_count": 64,
   "id": "0c276750-9bb1-424d-96f4-2a3bcad492c2",
   "metadata": {},
   "outputs": [
    {
     "name": "stdout",
     "output_type": "stream",
     "text": [
      "set()\n"
     ]
    }
   ],
   "source": [
    "a = {1,2,3,4,5}\n",
    "a.clear()\n",
    "print(a)"
   ]
  },
  {
   "cell_type": "markdown",
   "id": "09ad9ef0-721a-4ab5-964f-3e105f25f159",
   "metadata": {},
   "source": [
    "7. Create a set of even numbers from 1 to 10."
   ]
  },
  {
   "cell_type": "code",
   "execution_count": 70,
   "id": "3032d6a2-44f5-4c58-a2d6-bc5a65d9dcf0",
   "metadata": {},
   "outputs": [
    {
     "name": "stdout",
     "output_type": "stream",
     "text": [
      "{2, 4, 6, 8, 10}\n"
     ]
    }
   ],
   "source": [
    "a = set(range(2,12,2))\n",
    "print(a)"
   ]
  },
  {
   "cell_type": "markdown",
   "id": "c3e6651a-06a3-4652-b014-29baab97b29a",
   "metadata": {},
   "source": [
    "8. Create a set of odd numbers from 1 to 10."
   ]
  },
  {
   "cell_type": "code",
   "execution_count": 69,
   "id": "33c7574d-f4f5-40b4-b1e4-59bfa57bd206",
   "metadata": {},
   "outputs": [
    {
     "name": "stdout",
     "output_type": "stream",
     "text": [
      "{1, 3, 5, 7, 9}\n"
     ]
    }
   ],
   "source": [
    "a = set(range(1,11,2))\n",
    "print(a)"
   ]
  },
  {
   "cell_type": "markdown",
   "id": "721aa23b-2fd9-46c2-bb6d-5e9c073dc329",
   "metadata": {},
   "source": [
    "9. Find the union of two sets"
   ]
  },
  {
   "cell_type": "code",
   "execution_count": 71,
   "id": "512901c5-65b0-4349-afab-efe27d17150c",
   "metadata": {},
   "outputs": [
    {
     "name": "stdout",
     "output_type": "stream",
     "text": [
      "Union: {1, 2, 3, 4, 5}\n"
     ]
    }
   ],
   "source": [
    "set1 = {1, 2, 3}\n",
    "set2 = {3, 4, 5}\n",
    "union_set = set1 | set2\n",
    "print(\"Union:\", union_set)"
   ]
  },
  {
   "cell_type": "markdown",
   "id": "6ebd5355-fae7-4fa0-b49e-9f7c30d65c3f",
   "metadata": {},
   "source": [
    "10. Find the intersection of two sets"
   ]
  },
  {
   "cell_type": "code",
   "execution_count": 72,
   "id": "329c441d-be3f-4180-8db9-80bb6033863d",
   "metadata": {},
   "outputs": [
    {
     "name": "stdout",
     "output_type": "stream",
     "text": [
      "Intersection: {3}\n"
     ]
    }
   ],
   "source": [
    "intersection_set = set1 & set2\n",
    "print(\"Intersection:\", intersection_set)"
   ]
  },
  {
   "cell_type": "markdown",
   "id": "74ea94cd-3407-43f5-8ef5-f1fc109a0728",
   "metadata": {},
   "source": [
    "11. Find the difference between two sets"
   ]
  },
  {
   "cell_type": "code",
   "execution_count": 73,
   "id": "f246ba66-40ed-4b84-bfeb-52075037bba3",
   "metadata": {},
   "outputs": [
    {
     "name": "stdout",
     "output_type": "stream",
     "text": [
      "Difference: {1, 2}\n"
     ]
    }
   ],
   "source": [
    "difference_set = set1 - set2\n",
    "print(\"Difference:\", difference_set)"
   ]
  },
  {
   "cell_type": "markdown",
   "id": "8db89854-7dc4-4978-b01d-211bf805b8e8",
   "metadata": {},
   "source": [
    "12. Check if a set is a subset of another set"
   ]
  },
  {
   "cell_type": "code",
   "execution_count": 74,
   "id": "e09dc703-d57c-409e-b10d-91dd504c1ab2",
   "metadata": {},
   "outputs": [
    {
     "name": "stdout",
     "output_type": "stream",
     "text": [
      "Is set1 a subset of set2: False\n"
     ]
    }
   ],
   "source": [
    "is_subset = set1 <= set2\n",
    "print(\"Is set1 a subset of set2:\", is_subset)"
   ]
  },
  {
   "cell_type": "markdown",
   "id": "df845f52-b8d7-4931-be16-a24c427ac106",
   "metadata": {},
   "source": [
    "13. Check if a set is a superset of another set"
   ]
  },
  {
   "cell_type": "code",
   "execution_count": 75,
   "id": "86f5002a-579d-46de-81b8-8154b54326b3",
   "metadata": {},
   "outputs": [
    {
     "name": "stdout",
     "output_type": "stream",
     "text": [
      "Is set1 a superset of set2: False\n"
     ]
    }
   ],
   "source": [
    "is_superset = set1 >= set2\n",
    "print(\"Is set1 a superset of set2:\", is_superset)"
   ]
  },
  {
   "cell_type": "markdown",
   "id": "eca782f8-482e-4639-8959-2edd7a9d91ac",
   "metadata": {},
   "source": [
    "14. Create a set from a list"
   ]
  },
  {
   "cell_type": "code",
   "execution_count": 78,
   "id": "d63f5044-1e42-45e4-9a79-86d58d11b99a",
   "metadata": {},
   "outputs": [
    {
     "name": "stdout",
     "output_type": "stream",
     "text": [
      "{1, 2, 3, 4, 5, 6}\n"
     ]
    }
   ],
   "source": [
    "a = set([1,2,3,4,5,6])\n",
    "print(a)"
   ]
  },
  {
   "cell_type": "markdown",
   "id": "3d60e314-3cfc-49fd-ac64-f0611ce8d6e9",
   "metadata": {},
   "source": [
    " 15. Convert a set to a list"
   ]
  },
  {
   "cell_type": "code",
   "execution_count": 79,
   "id": "45e5dd9e-c637-4262-ad75-d28c15534601",
   "metadata": {},
   "outputs": [
    {
     "name": "stdout",
     "output_type": "stream",
     "text": [
      "[1, 2, 3, 4, 5, 6]\n"
     ]
    }
   ],
   "source": [
    "b = list(a)\n",
    "print(b)"
   ]
  },
  {
   "cell_type": "markdown",
   "id": "0bef27fa-42d3-4a33-89c2-9cd0490b61f0",
   "metadata": {},
   "source": [
    "16. Remove a random element from a set."
   ]
  },
  {
   "cell_type": "code",
   "execution_count": 3,
   "id": "24a4b218-be5a-434e-a775-1f4327110997",
   "metadata": {},
   "outputs": [
    {
     "name": "stdout",
     "output_type": "stream",
     "text": [
      "{1, 2, 3, 4, 6}\n"
     ]
    }
   ],
   "source": [
    "a = {1,2,3,4,5,6}\n",
    "a.remove(5)\n",
    "print(a)"
   ]
  },
  {
   "cell_type": "markdown",
   "id": "1ec02898-37e4-4bc9-8297-d883e65a53b6",
   "metadata": {},
   "source": [
    "17. Pop an element from a set."
   ]
  },
  {
   "cell_type": "code",
   "execution_count": 4,
   "id": "74fe7ef4-ff28-40b9-b41e-cb293e2d2655",
   "metadata": {},
   "outputs": [
    {
     "name": "stdout",
     "output_type": "stream",
     "text": [
      "{2, 3, 4, 5, 6}\n"
     ]
    }
   ],
   "source": [
    "a = {1,2,3,4,5,6}\n",
    "a.pop()\n",
    "print(a)"
   ]
  },
  {
   "cell_type": "markdown",
   "id": "7639e30f-3bba-4129-ade5-2b6fbb7cb9ef",
   "metadata": {},
   "source": [
    "18. Check if two sets have no elements in common."
   ]
  },
  {
   "cell_type": "code",
   "execution_count": 8,
   "id": "3227f03e-85dd-4e0f-8c74-b581251a3354",
   "metadata": {},
   "outputs": [
    {
     "name": "stdout",
     "output_type": "stream",
     "text": [
      "sets have no common element\n"
     ]
    }
   ],
   "source": [
    "set1 = {1, 2, 3}\n",
    "set2 = {4, 5, 6}\n",
    "\n",
    "if set1 == set2:\n",
    "    print('sets have common element')\n",
    "else:\n",
    "    print('sets have no common element')"
   ]
  },
  {
   "cell_type": "markdown",
   "id": "34aec30d-55d5-4937-aec5-822495163cf3",
   "metadata": {},
   "source": [
    "19. Find the symmetric difference between two sets."
   ]
  },
  {
   "cell_type": "code",
   "execution_count": 9,
   "id": "dadfe62f-2072-47e0-804a-041c57c191b2",
   "metadata": {},
   "outputs": [
    {
     "name": "stdout",
     "output_type": "stream",
     "text": [
      "{1, 2, 5, 6}\n"
     ]
    }
   ],
   "source": [
    "set3 = {1, 2, 3, 4}\n",
    "set4 = {3, 4, 5, 6}\n",
    "symmetric_difference = set3.symmetric_difference(set4)\n",
    "print(symmetric_difference)"
   ]
  },
  {
   "cell_type": "markdown",
   "id": "eb5997b1-fa1f-4b46-a78e-1ba0ab353142",
   "metadata": {},
   "source": [
    "20. Update a set with elements from another set."
   ]
  },
  {
   "cell_type": "code",
   "execution_count": 13,
   "id": "0571921f-604a-443e-86ce-0a1aa34a2de6",
   "metadata": {},
   "outputs": [
    {
     "name": "stdout",
     "output_type": "stream",
     "text": [
      "{1, 2, 3, 4, 5, 6, 8, 9}\n"
     ]
    }
   ],
   "source": [
    "set1 = {1, 2, 3, 4}\n",
    "set2 = {9,8,5,6}\n",
    "set1.update(set2)\n",
    "print(set1)"
   ]
  },
  {
   "cell_type": "markdown",
   "id": "1da4600d-871f-47fb-bf31-411792defc13",
   "metadata": {},
   "source": [
    "21. Create a set of the first 5 prime numbers."
   ]
  },
  {
   "cell_type": "code",
   "execution_count": 15,
   "id": "033e148d-3f91-4e2d-82b3-658e8bfd9d91",
   "metadata": {},
   "outputs": [
    {
     "name": "stdout",
     "output_type": "stream",
     "text": [
      "{2, 3, 5, 7, 11}\n"
     ]
    }
   ],
   "source": [
    "p_no = {2,3,5,7,11}\n",
    "print(p_no)"
   ]
  },
  {
   "cell_type": "markdown",
   "id": "cf9a38f4-3681-48da-b222-2e553164d2a7",
   "metadata": {},
   "source": [
    "22. Check if two sets are identical."
   ]
  },
  {
   "cell_type": "code",
   "execution_count": 16,
   "id": "835e51f7-518d-48b1-8797-b264cdaafc54",
   "metadata": {},
   "outputs": [
    {
     "name": "stdout",
     "output_type": "stream",
     "text": [
      "True\n"
     ]
    }
   ],
   "source": [
    "set7 = {1, 2, 3}\n",
    "set8 = {3, 2, 1}\n",
    "\n",
    "identical = set7 == set8\n",
    "print(identical)"
   ]
  },
  {
   "cell_type": "markdown",
   "id": "0bc6c0fc-9e60-4add-b604-72eb5df2211d",
   "metadata": {},
   "source": [
    "23. Create a frozen set."
   ]
  },
  {
   "cell_type": "code",
   "execution_count": 17,
   "id": "01201113-0239-4b9c-adfb-08ebc17cb72a",
   "metadata": {},
   "outputs": [
    {
     "name": "stdout",
     "output_type": "stream",
     "text": [
      "frozenset({1, 2, 3, 4})\n"
     ]
    }
   ],
   "source": [
    "frozen_set = frozenset({1, 2, 3, 4})\n",
    "print(frozen_set)"
   ]
  },
  {
   "cell_type": "markdown",
   "id": "19bfbabb-cd79-428a-88e7-961921bb2532",
   "metadata": {},
   "source": [
    "24: Check if a set is disjoint with another set."
   ]
  },
  {
   "cell_type": "code",
   "execution_count": 21,
   "id": "a14e3172-9049-47a9-a531-da9250341069",
   "metadata": {},
   "outputs": [
    {
     "name": "stdout",
     "output_type": "stream",
     "text": [
      "True\n"
     ]
    }
   ],
   "source": [
    "set1 = {1, 2, 3}\n",
    "set2 = {4, 5, 6}\n",
    "is_disjoint = set1.isdisjoint(set2)\n",
    "print(is_disjoint)\n"
   ]
  },
  {
   "cell_type": "markdown",
   "id": "ce40c526-53ef-4ab7-b373-f089582a2c49",
   "metadata": {},
   "source": [
    "25: Create a set of squares of numbers from 1 to 5."
   ]
  },
  {
   "cell_type": "code",
   "execution_count": 22,
   "id": "635306dd-6c5d-458b-94de-8d3569899c2f",
   "metadata": {},
   "outputs": [
    {
     "name": "stdout",
     "output_type": "stream",
     "text": [
      "{1, 4, 9, 16, 25}\n"
     ]
    }
   ],
   "source": [
    "squares_set = {x**2 for x in range(1, 6)}\n",
    "print(squares_set)"
   ]
  },
  {
   "cell_type": "markdown",
   "id": "8a21485d-4342-4162-8259-da96c93301fb",
   "metadata": {},
   "source": [
    "26: Filter out all even numbers from a set."
   ]
  },
  {
   "cell_type": "code",
   "execution_count": 27,
   "id": "78fdc40d-99a0-4741-9b86-1d5b3e7f8b39",
   "metadata": {},
   "outputs": [
    {
     "name": "stdout",
     "output_type": "stream",
     "text": [
      "1\n",
      "3\n",
      "5\n"
     ]
    }
   ],
   "source": [
    "original_set = {1, 2, 3, 4, 5}\n",
    "for i in original_set:\n",
    "    if i%2 != 0:\n",
    "        print(i)\n",
    "    "
   ]
  },
  {
   "cell_type": "markdown",
   "id": "d0fa4001-b466-40b1-8334-f43f8ee71897",
   "metadata": {},
   "source": [
    "27: Multiply all elements in a set by 2."
   ]
  },
  {
   "cell_type": "code",
   "execution_count": 29,
   "id": "e90196a5-108a-426f-9074-961df36471d9",
   "metadata": {},
   "outputs": [
    {
     "name": "stdout",
     "output_type": "stream",
     "text": [
      "2 4 6 8 10 "
     ]
    }
   ],
   "source": [
    "original_set = {1, 2, 3, 4, 5}\n",
    "\n",
    "for i in original_set:\n",
    "    print(i * 2, end = ' ')"
   ]
  },
  {
   "cell_type": "markdown",
   "id": "966a80ed-e903-4306-a2b0-76786fb507d6",
   "metadata": {},
   "source": [
    "28: Create a set of random numbers."
   ]
  },
  {
   "cell_type": "code",
   "execution_count": 31,
   "id": "ac4634df-7fe0-422f-93a7-9aa2a84ca45f",
   "metadata": {},
   "outputs": [
    {
     "name": "stdout",
     "output_type": "stream",
     "text": [
      "{1, 3, 6, 7, 8}\n"
     ]
    }
   ],
   "source": [
    "import random\n",
    "random_set = {random.randint(1, 10) for _ in range(5)}\n",
    "print( random_set)"
   ]
  },
  {
   "cell_type": "markdown",
   "id": "0237759f-bd23-4e78-bc2a-0d309d3f5f33",
   "metadata": {},
   "source": [
    "29: Check if a set is empty."
   ]
  },
  {
   "cell_type": "code",
   "execution_count": 32,
   "id": "762935fe-f32d-4408-a81c-b0758204bcec",
   "metadata": {},
   "outputs": [
    {
     "name": "stdout",
     "output_type": "stream",
     "text": [
      "Task 29: True\n"
     ]
    }
   ],
   "source": [
    "empty_set = set()\n",
    "is_empty = not bool(empty_set)\n",
    "print(\"Task 29:\", is_empty)"
   ]
  },
  {
   "cell_type": "markdown",
   "id": "b56023b5-c412-4e76-9a3f-1fa9abe98382",
   "metadata": {},
   "source": [
    "30: Create a nested set (hint: use frozenset)."
   ]
  },
  {
   "cell_type": "code",
   "execution_count": 33,
   "id": "dc631d31-0fad-4423-b3e2-edd60f25d076",
   "metadata": {},
   "outputs": [
    {
     "name": "stdout",
     "output_type": "stream",
     "text": [
      "Task 30: {frozenset({3, 4}), frozenset({1, 2})}\n"
     ]
    }
   ],
   "source": [
    "nested_set = {frozenset({1, 2}), frozenset({3, 4})}\n",
    "print(\"Task 30:\", nested_set)"
   ]
  },
  {
   "cell_type": "markdown",
   "id": "beb61c1f-a04f-4d57-9b10-09a6eba37edd",
   "metadata": {},
   "source": [
    "31: Remove an element from a set using the discard method."
   ]
  },
  {
   "cell_type": "code",
   "execution_count": 34,
   "id": "5543ed66-1a4f-4c11-81f9-e93cab31885e",
   "metadata": {},
   "outputs": [
    {
     "name": "stdout",
     "output_type": "stream",
     "text": [
      "{1, 2, 4, 5}\n"
     ]
    }
   ],
   "source": [
    "a = {1, 2, 3, 4, 5}\n",
    "a.discard(3)\n",
    "print(a)"
   ]
  },
  {
   "cell_type": "markdown",
   "id": "9c261661-72eb-49a2-b9d1-2ad48143e555",
   "metadata": {},
   "source": [
    "32. Compare two sets."
   ]
  },
  {
   "cell_type": "code",
   "execution_count": 35,
   "id": "041b465c-e033-4458-9495-becdf615f2dc",
   "metadata": {},
   "outputs": [
    {
     "name": "stdout",
     "output_type": "stream",
     "text": [
      "sets are not equal\n"
     ]
    }
   ],
   "source": [
    "set1 = {1, 2, 3, 4, 5}\n",
    "set2 = {3, 4, 5, 6, 7}\n",
    "\n",
    "if set1 == set2:\n",
    "    print('sets are equal')\n",
    "else:\n",
    "    print('sets are not equal')"
   ]
  },
  {
   "cell_type": "markdown",
   "id": "88dfc9d2-c6e0-4f05-b2e6-2e12d8ca5c00",
   "metadata": {},
   "source": [
    "33. Create a set from a string."
   ]
  },
  {
   "cell_type": "code",
   "execution_count": 38,
   "id": "1e56194d-c264-427a-a33d-d924c8fc15d0",
   "metadata": {},
   "outputs": [
    {
     "name": "stdout",
     "output_type": "stream",
     "text": [
      "{'e', 'o', 'h', 'l'}\n"
     ]
    }
   ],
   "source": [
    "a = 'hello'\n",
    "b = set(a)\n",
    "print(b)"
   ]
  },
  {
   "cell_type": "markdown",
   "id": "baf2bb65-4fa9-4dbd-9288-c939d83fbdf2",
   "metadata": {},
   "source": [
    "34. Convert a set of strings to a set of integers."
   ]
  },
  {
   "cell_type": "code",
   "execution_count": 42,
   "id": "80720d6b-b4c9-4b67-a527-9f0c748f8662",
   "metadata": {},
   "outputs": [
    {
     "name": "stdout",
     "output_type": "stream",
     "text": [
      "Set of integers: {1, 2, 3, 4}\n"
     ]
    }
   ],
   "source": [
    "set_of_strings = {\"1\", \"2\", \"3\", \"4\"}\n",
    "set_of_integers = {int(item) for item in set_of_strings}\n",
    "print(\"Set of integers:\", set_of_integers)"
   ]
  },
  {
   "cell_type": "markdown",
   "id": "47f8f46d-eb48-4710-8fcd-0a5eeddf97d9",
   "metadata": {},
   "source": [
    "35. Convert a set of integers to a set of strings."
   ]
  },
  {
   "cell_type": "code",
   "execution_count": 46,
   "id": "25771b3e-ca06-4c12-9ac0-8042a7c74ac1",
   "metadata": {},
   "outputs": [
    {
     "name": "stdout",
     "output_type": "stream",
     "text": [
      "Set of strings: {'3', '4', '1', '2'}\n"
     ]
    }
   ],
   "source": [
    "set_of_integers = {1,2,3,4}\n",
    "set_of_strings = {str(item) for item in set_of_integers}\n",
    "print(\"Set of strings:\", set_of_strings)"
   ]
  },
  {
   "cell_type": "markdown",
   "id": "f7face07-617c-48d7-ad7a-bd8acf5467d5",
   "metadata": {},
   "source": [
    "36. Create a set from a tuple."
   ]
  },
  {
   "cell_type": "code",
   "execution_count": 47,
   "id": "6656f815-90fd-47d8-a725-e629488c094b",
   "metadata": {},
   "outputs": [
    {
     "name": "stdout",
     "output_type": "stream",
     "text": [
      "{1, 2, 3, 4, 5, 6}\n"
     ]
    }
   ],
   "source": [
    "tuple1 = (1,2,3,4,5,6)\n",
    "set1 = set(tuple1)\n",
    "print(set1)"
   ]
  },
  {
   "cell_type": "markdown",
   "id": "bb262bf5-03d7-4703-bf44-417eb0d28608",
   "metadata": {},
   "source": [
    "37. Convert a set to a tuple."
   ]
  },
  {
   "cell_type": "code",
   "execution_count": 48,
   "id": "0340b7f8-32e4-4fda-8852-cd40ae57a3ca",
   "metadata": {},
   "outputs": [
    {
     "name": "stdout",
     "output_type": "stream",
     "text": [
      "(1, 2, 3, 4, 5, 6)\n"
     ]
    }
   ],
   "source": [
    "set1 = {1,2,3,4,5,6}\n",
    "tuple1 = tuple(tuple1)\n",
    "print(tuple1)"
   ]
  },
  {
   "cell_type": "markdown",
   "id": "8313e83c-5450-4250-91ae-931aff4f228c",
   "metadata": {},
   "source": [
    "38. Find the maximum value in a set."
   ]
  },
  {
   "cell_type": "code",
   "execution_count": 50,
   "id": "3e0d3fde-ab4e-4a73-bb69-cfa44f4c4ca0",
   "metadata": {},
   "outputs": [
    {
     "data": {
      "text/plain": [
       "10"
      ]
     },
     "execution_count": 50,
     "metadata": {},
     "output_type": "execute_result"
    }
   ],
   "source": [
    "set_of_values = {5, 8, 2, 10, 3}\n",
    "max(set_of_values)"
   ]
  },
  {
   "cell_type": "markdown",
   "id": "85055258-ccbb-4614-875d-8335d9d40fb6",
   "metadata": {},
   "source": [
    "39. Find the minimum value in a set."
   ]
  },
  {
   "cell_type": "code",
   "execution_count": 51,
   "id": "b7f7ec31-0534-4366-8810-d32ac725be48",
   "metadata": {},
   "outputs": [
    {
     "data": {
      "text/plain": [
       "2"
      ]
     },
     "execution_count": 51,
     "metadata": {},
     "output_type": "execute_result"
    }
   ],
   "source": [
    "set_of_values = {5, 8, 2, 10, 3}\n",
    "min(set_of_values)"
   ]
  },
  {
   "cell_type": "markdown",
   "id": "946886fc-1e6c-4404-9f13-35833c529009",
   "metadata": {},
   "source": [
    "40. Create a set from user input."
   ]
  },
  {
   "cell_type": "code",
   "execution_count": 4,
   "id": "0a669d6f-ff05-4e30-836b-171df85a8397",
   "metadata": {},
   "outputs": [
    {
     "name": "stdin",
     "output_type": "stream",
     "text": [
      "Enter elements separated by spaces:  1 2 3 4 5\n"
     ]
    },
    {
     "name": "stdout",
     "output_type": "stream",
     "text": [
      "{'3', '5', '4', '1', '2'}\n"
     ]
    }
   ],
   "source": [
    "user_input = input(\"Enter elements separated by spaces: \")\n",
    "user_set = set(user_input.split())\n",
    "print(user_set)"
   ]
  },
  {
   "cell_type": "markdown",
   "id": "a66abf4d-8cfd-4767-97ff-bf1a4a2a5433",
   "metadata": {},
   "source": [
    "41: Check if the intersection of two sets is empty"
   ]
  },
  {
   "cell_type": "code",
   "execution_count": 5,
   "id": "d14e76be-cfe8-441c-b909-70e8faac7045",
   "metadata": {},
   "outputs": [
    {
     "name": "stdout",
     "output_type": "stream",
     "text": [
      "False\n"
     ]
    }
   ],
   "source": [
    "set1 = {1, 2, 3}\n",
    "set2 = {3, 4, 5}\n",
    "intersection_empty = not bool(set1 & set2)\n",
    "print(intersection_empty)"
   ]
  },
  {
   "cell_type": "markdown",
   "id": "1d220980-fd72-4966-a45b-6f6d2c53c7f8",
   "metadata": {},
   "source": [
    "42: Create a set of the first 5 Fibonacci numbers"
   ]
  },
  {
   "cell_type": "code",
   "execution_count": 6,
   "id": "ffd09182-6b20-4239-b360-07c750dbdfaf",
   "metadata": {},
   "outputs": [
    {
     "name": "stdout",
     "output_type": "stream",
     "text": [
      "{0, 1, 2, 3}\n"
     ]
    }
   ],
   "source": [
    "fibonacci_set = {0, 1, 1, 2, 3}\n",
    "print(fibonacci_set)"
   ]
  },
  {
   "cell_type": "markdown",
   "id": "ff95c0b1-29c7-450b-9b44-5fc61ab6384e",
   "metadata": {},
   "source": [
    "43: Remove duplicates from a list using sets"
   ]
  },
  {
   "cell_type": "code",
   "execution_count": 7,
   "id": "4f124675-d8c0-4c53-bceb-7a2ef285029c",
   "metadata": {},
   "outputs": [
    {
     "name": "stdout",
     "output_type": "stream",
     "text": [
      "[1, 2, 3, 4, 5]\n"
     ]
    }
   ],
   "source": [
    "original_list = [1, 2, 2, 3, 4, 4, 5]\n",
    "list_without_duplicates = list(set(original_list))\n",
    "print(list_without_duplicates)"
   ]
  },
  {
   "cell_type": "markdown",
   "id": "250d69d6-c53d-4640-98dc-07311eb3ebb0",
   "metadata": {},
   "source": [
    "44: Check if two sets have the same elements, regardless of their count"
   ]
  },
  {
   "cell_type": "code",
   "execution_count": 9,
   "id": "1ee2b5f9-8682-48e7-98e9-be4a656862b2",
   "metadata": {},
   "outputs": [
    {
     "name": "stdout",
     "output_type": "stream",
     "text": [
      "True\n"
     ]
    }
   ],
   "source": [
    "set_a = {1, 2, 3, 4}\n",
    "set_b = {4, 3, 2, 1}\n",
    "sets_have_same_elements = set_a == set_b\n",
    "print(sets_have_same_elements)"
   ]
  },
  {
   "cell_type": "markdown",
   "id": "ba8559fa-a2d7-47d7-81ea-d0cf9b12e7d6",
   "metadata": {},
   "source": [
    "45: Create a set of the first `n` powers of 2"
   ]
  },
  {
   "cell_type": "code",
   "execution_count": 10,
   "id": "aaf475dd-a7ca-4aa7-9f63-606654eafc75",
   "metadata": {},
   "outputs": [
    {
     "name": "stdout",
     "output_type": "stream",
     "text": [
      "{1, 2, 4, 8, 16}\n"
     ]
    }
   ],
   "source": [
    "n = 5\n",
    "powers_of_2_set = {2**i for i in range(n)}\n",
    "print(powers_of_2_set)"
   ]
  },
  {
   "cell_type": "markdown",
   "id": "399797a3-f637-41a9-903c-c79d440a7873",
   "metadata": {},
   "source": [
    "46: Find the common elements between a set and a list"
   ]
  },
  {
   "cell_type": "code",
   "execution_count": 12,
   "id": "6c88714f-a013-4f4e-9c2c-95ad24bb29f7",
   "metadata": {},
   "outputs": [
    {
     "name": "stdout",
     "output_type": "stream",
     "text": [
      "{3}\n"
     ]
    }
   ],
   "source": [
    "set_c = {1, 2, 3}\n",
    "list_c = [3, 4, 5]\n",
    "common_elements = set_c & set(list_c)\n",
    "print(common_elements)                              "
   ]
  },
  {
   "cell_type": "markdown",
   "id": "fab3702d-81ce-4ca9-889e-5861ef07f8ad",
   "metadata": {},
   "source": [
    "47: Create a set of the first `n` triangular numbers"
   ]
  },
  {
   "cell_type": "code",
   "execution_count": 13,
   "id": "3873633a-0b06-4c49-8d12-63fe3fbf2471",
   "metadata": {},
   "outputs": [
    {
     "name": "stdout",
     "output_type": "stream",
     "text": [
      "{1, 3, 6, 10, 15}\n"
     ]
    }
   ],
   "source": [
    "n_triangular = 5\n",
    "triangular_numbers_set = {i * (i + 1) // 2 for i in range(1, n_triangular + 1)}\n",
    "print(triangular_numbers_set)\n"
   ]
  },
  {
   "cell_type": "code",
   "execution_count": null,
   "id": "f76f9c42-1933-43e9-ac23-5730217e2e76",
   "metadata": {},
   "outputs": [],
   "source": []
  }
 ],
 "metadata": {
  "kernelspec": {
   "display_name": "Python 3 (ipykernel)",
   "language": "python",
   "name": "python3"
  },
  "language_info": {
   "codemirror_mode": {
    "name": "ipython",
    "version": 3
   },
   "file_extension": ".py",
   "mimetype": "text/x-python",
   "name": "python",
   "nbconvert_exporter": "python",
   "pygments_lexer": "ipython3",
   "version": "3.10.8"
  }
 },
 "nbformat": 4,
 "nbformat_minor": 5
}
